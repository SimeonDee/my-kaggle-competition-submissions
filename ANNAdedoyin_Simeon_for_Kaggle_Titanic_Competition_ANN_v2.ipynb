{
 "cells": [
  {
   "cell_type": "markdown",
   "metadata": {},
   "source": [
    "# Adedoyin Simeon Adeyemi\n",
    "### For: Kaggle Titanic Competition (Using ANN, version 1.1)\n",
    "Date: 25th May,2019"
   ]
  },
  {
   "cell_type": "code",
   "execution_count": 2,
   "metadata": {},
   "outputs": [],
   "source": [
    "import numpy as np\n",
    "import pandas as pd\n",
    "import matplotlib.pyplot as plt\n",
    "import seaborn as sns"
   ]
  },
  {
   "cell_type": "code",
   "execution_count": 3,
   "metadata": {},
   "outputs": [],
   "source": [
    "%matplotlib inline"
   ]
  },
  {
   "cell_type": "code",
   "execution_count": 4,
   "metadata": {},
   "outputs": [],
   "source": [
    "train_data = pd.read_csv('train.csv',index_col='PassengerId')"
   ]
  },
  {
   "cell_type": "code",
   "execution_count": 5,
   "metadata": {},
   "outputs": [],
   "source": [
    "test_data = pd.read_csv('test.csv',index_col='PassengerId')"
   ]
  },
  {
   "cell_type": "code",
   "execution_count": 6,
   "metadata": {},
   "outputs": [],
   "source": [
    "gender_sub = pd.read_csv('gender_submission.csv')"
   ]
  },
  {
   "cell_type": "code",
   "execution_count": 7,
   "metadata": {},
   "outputs": [
    {
     "data": {
      "text/html": [
       "<div>\n",
       "<style scoped>\n",
       "    .dataframe tbody tr th:only-of-type {\n",
       "        vertical-align: middle;\n",
       "    }\n",
       "\n",
       "    .dataframe tbody tr th {\n",
       "        vertical-align: top;\n",
       "    }\n",
       "\n",
       "    .dataframe thead th {\n",
       "        text-align: right;\n",
       "    }\n",
       "</style>\n",
       "<table border=\"1\" class=\"dataframe\">\n",
       "  <thead>\n",
       "    <tr style=\"text-align: right;\">\n",
       "      <th></th>\n",
       "      <th>Survived</th>\n",
       "      <th>Pclass</th>\n",
       "      <th>Name</th>\n",
       "      <th>Sex</th>\n",
       "      <th>Age</th>\n",
       "      <th>SibSp</th>\n",
       "      <th>Parch</th>\n",
       "      <th>Ticket</th>\n",
       "      <th>Fare</th>\n",
       "      <th>Cabin</th>\n",
       "      <th>Embarked</th>\n",
       "    </tr>\n",
       "    <tr>\n",
       "      <th>PassengerId</th>\n",
       "      <th></th>\n",
       "      <th></th>\n",
       "      <th></th>\n",
       "      <th></th>\n",
       "      <th></th>\n",
       "      <th></th>\n",
       "      <th></th>\n",
       "      <th></th>\n",
       "      <th></th>\n",
       "      <th></th>\n",
       "      <th></th>\n",
       "    </tr>\n",
       "  </thead>\n",
       "  <tbody>\n",
       "    <tr>\n",
       "      <th>1</th>\n",
       "      <td>0</td>\n",
       "      <td>3</td>\n",
       "      <td>Braund, Mr. Owen Harris</td>\n",
       "      <td>male</td>\n",
       "      <td>22.0</td>\n",
       "      <td>1</td>\n",
       "      <td>0</td>\n",
       "      <td>A/5 21171</td>\n",
       "      <td>7.2500</td>\n",
       "      <td>NaN</td>\n",
       "      <td>S</td>\n",
       "    </tr>\n",
       "    <tr>\n",
       "      <th>2</th>\n",
       "      <td>1</td>\n",
       "      <td>1</td>\n",
       "      <td>Cumings, Mrs. John Bradley (Florence Briggs Th...</td>\n",
       "      <td>female</td>\n",
       "      <td>38.0</td>\n",
       "      <td>1</td>\n",
       "      <td>0</td>\n",
       "      <td>PC 17599</td>\n",
       "      <td>71.2833</td>\n",
       "      <td>C85</td>\n",
       "      <td>C</td>\n",
       "    </tr>\n",
       "    <tr>\n",
       "      <th>3</th>\n",
       "      <td>1</td>\n",
       "      <td>3</td>\n",
       "      <td>Heikkinen, Miss. Laina</td>\n",
       "      <td>female</td>\n",
       "      <td>26.0</td>\n",
       "      <td>0</td>\n",
       "      <td>0</td>\n",
       "      <td>STON/O2. 3101282</td>\n",
       "      <td>7.9250</td>\n",
       "      <td>NaN</td>\n",
       "      <td>S</td>\n",
       "    </tr>\n",
       "    <tr>\n",
       "      <th>4</th>\n",
       "      <td>1</td>\n",
       "      <td>1</td>\n",
       "      <td>Futrelle, Mrs. Jacques Heath (Lily May Peel)</td>\n",
       "      <td>female</td>\n",
       "      <td>35.0</td>\n",
       "      <td>1</td>\n",
       "      <td>0</td>\n",
       "      <td>113803</td>\n",
       "      <td>53.1000</td>\n",
       "      <td>C123</td>\n",
       "      <td>S</td>\n",
       "    </tr>\n",
       "    <tr>\n",
       "      <th>5</th>\n",
       "      <td>0</td>\n",
       "      <td>3</td>\n",
       "      <td>Allen, Mr. William Henry</td>\n",
       "      <td>male</td>\n",
       "      <td>35.0</td>\n",
       "      <td>0</td>\n",
       "      <td>0</td>\n",
       "      <td>373450</td>\n",
       "      <td>8.0500</td>\n",
       "      <td>NaN</td>\n",
       "      <td>S</td>\n",
       "    </tr>\n",
       "    <tr>\n",
       "      <th>6</th>\n",
       "      <td>0</td>\n",
       "      <td>3</td>\n",
       "      <td>Moran, Mr. James</td>\n",
       "      <td>male</td>\n",
       "      <td>NaN</td>\n",
       "      <td>0</td>\n",
       "      <td>0</td>\n",
       "      <td>330877</td>\n",
       "      <td>8.4583</td>\n",
       "      <td>NaN</td>\n",
       "      <td>Q</td>\n",
       "    </tr>\n",
       "    <tr>\n",
       "      <th>7</th>\n",
       "      <td>0</td>\n",
       "      <td>1</td>\n",
       "      <td>McCarthy, Mr. Timothy J</td>\n",
       "      <td>male</td>\n",
       "      <td>54.0</td>\n",
       "      <td>0</td>\n",
       "      <td>0</td>\n",
       "      <td>17463</td>\n",
       "      <td>51.8625</td>\n",
       "      <td>E46</td>\n",
       "      <td>S</td>\n",
       "    </tr>\n",
       "    <tr>\n",
       "      <th>8</th>\n",
       "      <td>0</td>\n",
       "      <td>3</td>\n",
       "      <td>Palsson, Master. Gosta Leonard</td>\n",
       "      <td>male</td>\n",
       "      <td>2.0</td>\n",
       "      <td>3</td>\n",
       "      <td>1</td>\n",
       "      <td>349909</td>\n",
       "      <td>21.0750</td>\n",
       "      <td>NaN</td>\n",
       "      <td>S</td>\n",
       "    </tr>\n",
       "    <tr>\n",
       "      <th>9</th>\n",
       "      <td>1</td>\n",
       "      <td>3</td>\n",
       "      <td>Johnson, Mrs. Oscar W (Elisabeth Vilhelmina Berg)</td>\n",
       "      <td>female</td>\n",
       "      <td>27.0</td>\n",
       "      <td>0</td>\n",
       "      <td>2</td>\n",
       "      <td>347742</td>\n",
       "      <td>11.1333</td>\n",
       "      <td>NaN</td>\n",
       "      <td>S</td>\n",
       "    </tr>\n",
       "    <tr>\n",
       "      <th>10</th>\n",
       "      <td>1</td>\n",
       "      <td>2</td>\n",
       "      <td>Nasser, Mrs. Nicholas (Adele Achem)</td>\n",
       "      <td>female</td>\n",
       "      <td>14.0</td>\n",
       "      <td>1</td>\n",
       "      <td>0</td>\n",
       "      <td>237736</td>\n",
       "      <td>30.0708</td>\n",
       "      <td>NaN</td>\n",
       "      <td>C</td>\n",
       "    </tr>\n",
       "  </tbody>\n",
       "</table>\n",
       "</div>"
      ],
      "text/plain": [
       "             Survived  Pclass  \\\n",
       "PassengerId                     \n",
       "1                   0       3   \n",
       "2                   1       1   \n",
       "3                   1       3   \n",
       "4                   1       1   \n",
       "5                   0       3   \n",
       "6                   0       3   \n",
       "7                   0       1   \n",
       "8                   0       3   \n",
       "9                   1       3   \n",
       "10                  1       2   \n",
       "\n",
       "                                                          Name     Sex   Age  \\\n",
       "PassengerId                                                                    \n",
       "1                                      Braund, Mr. Owen Harris    male  22.0   \n",
       "2            Cumings, Mrs. John Bradley (Florence Briggs Th...  female  38.0   \n",
       "3                                       Heikkinen, Miss. Laina  female  26.0   \n",
       "4                 Futrelle, Mrs. Jacques Heath (Lily May Peel)  female  35.0   \n",
       "5                                     Allen, Mr. William Henry    male  35.0   \n",
       "6                                             Moran, Mr. James    male   NaN   \n",
       "7                                      McCarthy, Mr. Timothy J    male  54.0   \n",
       "8                               Palsson, Master. Gosta Leonard    male   2.0   \n",
       "9            Johnson, Mrs. Oscar W (Elisabeth Vilhelmina Berg)  female  27.0   \n",
       "10                         Nasser, Mrs. Nicholas (Adele Achem)  female  14.0   \n",
       "\n",
       "             SibSp  Parch            Ticket     Fare Cabin Embarked  \n",
       "PassengerId                                                          \n",
       "1                1      0         A/5 21171   7.2500   NaN        S  \n",
       "2                1      0          PC 17599  71.2833   C85        C  \n",
       "3                0      0  STON/O2. 3101282   7.9250   NaN        S  \n",
       "4                1      0            113803  53.1000  C123        S  \n",
       "5                0      0            373450   8.0500   NaN        S  \n",
       "6                0      0            330877   8.4583   NaN        Q  \n",
       "7                0      0             17463  51.8625   E46        S  \n",
       "8                3      1            349909  21.0750   NaN        S  \n",
       "9                0      2            347742  11.1333   NaN        S  \n",
       "10               1      0            237736  30.0708   NaN        C  "
      ]
     },
     "execution_count": 7,
     "metadata": {},
     "output_type": "execute_result"
    }
   ],
   "source": [
    "train_data.head(10)"
   ]
  },
  {
   "cell_type": "code",
   "execution_count": 8,
   "metadata": {},
   "outputs": [
    {
     "data": {
      "text/html": [
       "<div>\n",
       "<style scoped>\n",
       "    .dataframe tbody tr th:only-of-type {\n",
       "        vertical-align: middle;\n",
       "    }\n",
       "\n",
       "    .dataframe tbody tr th {\n",
       "        vertical-align: top;\n",
       "    }\n",
       "\n",
       "    .dataframe thead th {\n",
       "        text-align: right;\n",
       "    }\n",
       "</style>\n",
       "<table border=\"1\" class=\"dataframe\">\n",
       "  <thead>\n",
       "    <tr style=\"text-align: right;\">\n",
       "      <th></th>\n",
       "      <th>Pclass</th>\n",
       "      <th>Name</th>\n",
       "      <th>Sex</th>\n",
       "      <th>Age</th>\n",
       "      <th>SibSp</th>\n",
       "      <th>Parch</th>\n",
       "      <th>Ticket</th>\n",
       "      <th>Fare</th>\n",
       "      <th>Cabin</th>\n",
       "      <th>Embarked</th>\n",
       "    </tr>\n",
       "    <tr>\n",
       "      <th>PassengerId</th>\n",
       "      <th></th>\n",
       "      <th></th>\n",
       "      <th></th>\n",
       "      <th></th>\n",
       "      <th></th>\n",
       "      <th></th>\n",
       "      <th></th>\n",
       "      <th></th>\n",
       "      <th></th>\n",
       "      <th></th>\n",
       "    </tr>\n",
       "  </thead>\n",
       "  <tbody>\n",
       "    <tr>\n",
       "      <th>892</th>\n",
       "      <td>3</td>\n",
       "      <td>Kelly, Mr. James</td>\n",
       "      <td>male</td>\n",
       "      <td>34.5</td>\n",
       "      <td>0</td>\n",
       "      <td>0</td>\n",
       "      <td>330911</td>\n",
       "      <td>7.8292</td>\n",
       "      <td>NaN</td>\n",
       "      <td>Q</td>\n",
       "    </tr>\n",
       "    <tr>\n",
       "      <th>893</th>\n",
       "      <td>3</td>\n",
       "      <td>Wilkes, Mrs. James (Ellen Needs)</td>\n",
       "      <td>female</td>\n",
       "      <td>47.0</td>\n",
       "      <td>1</td>\n",
       "      <td>0</td>\n",
       "      <td>363272</td>\n",
       "      <td>7.0000</td>\n",
       "      <td>NaN</td>\n",
       "      <td>S</td>\n",
       "    </tr>\n",
       "    <tr>\n",
       "      <th>894</th>\n",
       "      <td>2</td>\n",
       "      <td>Myles, Mr. Thomas Francis</td>\n",
       "      <td>male</td>\n",
       "      <td>62.0</td>\n",
       "      <td>0</td>\n",
       "      <td>0</td>\n",
       "      <td>240276</td>\n",
       "      <td>9.6875</td>\n",
       "      <td>NaN</td>\n",
       "      <td>Q</td>\n",
       "    </tr>\n",
       "    <tr>\n",
       "      <th>895</th>\n",
       "      <td>3</td>\n",
       "      <td>Wirz, Mr. Albert</td>\n",
       "      <td>male</td>\n",
       "      <td>27.0</td>\n",
       "      <td>0</td>\n",
       "      <td>0</td>\n",
       "      <td>315154</td>\n",
       "      <td>8.6625</td>\n",
       "      <td>NaN</td>\n",
       "      <td>S</td>\n",
       "    </tr>\n",
       "    <tr>\n",
       "      <th>896</th>\n",
       "      <td>3</td>\n",
       "      <td>Hirvonen, Mrs. Alexander (Helga E Lindqvist)</td>\n",
       "      <td>female</td>\n",
       "      <td>22.0</td>\n",
       "      <td>1</td>\n",
       "      <td>1</td>\n",
       "      <td>3101298</td>\n",
       "      <td>12.2875</td>\n",
       "      <td>NaN</td>\n",
       "      <td>S</td>\n",
       "    </tr>\n",
       "  </tbody>\n",
       "</table>\n",
       "</div>"
      ],
      "text/plain": [
       "             Pclass                                          Name     Sex  \\\n",
       "PassengerId                                                                 \n",
       "892               3                              Kelly, Mr. James    male   \n",
       "893               3              Wilkes, Mrs. James (Ellen Needs)  female   \n",
       "894               2                     Myles, Mr. Thomas Francis    male   \n",
       "895               3                              Wirz, Mr. Albert    male   \n",
       "896               3  Hirvonen, Mrs. Alexander (Helga E Lindqvist)  female   \n",
       "\n",
       "              Age  SibSp  Parch   Ticket     Fare Cabin Embarked  \n",
       "PassengerId                                                       \n",
       "892          34.5      0      0   330911   7.8292   NaN        Q  \n",
       "893          47.0      1      0   363272   7.0000   NaN        S  \n",
       "894          62.0      0      0   240276   9.6875   NaN        Q  \n",
       "895          27.0      0      0   315154   8.6625   NaN        S  \n",
       "896          22.0      1      1  3101298  12.2875   NaN        S  "
      ]
     },
     "execution_count": 8,
     "metadata": {},
     "output_type": "execute_result"
    }
   ],
   "source": [
    "test_data.head(5)"
   ]
  },
  {
   "cell_type": "code",
   "execution_count": 9,
   "metadata": {},
   "outputs": [
    {
     "data": {
      "text/html": [
       "<div>\n",
       "<style scoped>\n",
       "    .dataframe tbody tr th:only-of-type {\n",
       "        vertical-align: middle;\n",
       "    }\n",
       "\n",
       "    .dataframe tbody tr th {\n",
       "        vertical-align: top;\n",
       "    }\n",
       "\n",
       "    .dataframe thead th {\n",
       "        text-align: right;\n",
       "    }\n",
       "</style>\n",
       "<table border=\"1\" class=\"dataframe\">\n",
       "  <thead>\n",
       "    <tr style=\"text-align: right;\">\n",
       "      <th></th>\n",
       "      <th>PassengerId</th>\n",
       "      <th>Survived</th>\n",
       "    </tr>\n",
       "  </thead>\n",
       "  <tbody>\n",
       "    <tr>\n",
       "      <th>0</th>\n",
       "      <td>892</td>\n",
       "      <td>0</td>\n",
       "    </tr>\n",
       "    <tr>\n",
       "      <th>1</th>\n",
       "      <td>893</td>\n",
       "      <td>1</td>\n",
       "    </tr>\n",
       "    <tr>\n",
       "      <th>2</th>\n",
       "      <td>894</td>\n",
       "      <td>0</td>\n",
       "    </tr>\n",
       "    <tr>\n",
       "      <th>3</th>\n",
       "      <td>895</td>\n",
       "      <td>0</td>\n",
       "    </tr>\n",
       "    <tr>\n",
       "      <th>4</th>\n",
       "      <td>896</td>\n",
       "      <td>1</td>\n",
       "    </tr>\n",
       "  </tbody>\n",
       "</table>\n",
       "</div>"
      ],
      "text/plain": [
       "   PassengerId  Survived\n",
       "0          892         0\n",
       "1          893         1\n",
       "2          894         0\n",
       "3          895         0\n",
       "4          896         1"
      ]
     },
     "execution_count": 9,
     "metadata": {},
     "output_type": "execute_result"
    }
   ],
   "source": [
    "gender_sub.head()"
   ]
  },
  {
   "cell_type": "markdown",
   "metadata": {},
   "source": [
    "## Exploring the Datasets"
   ]
  },
  {
   "cell_type": "code",
   "execution_count": 10,
   "metadata": {},
   "outputs": [
    {
     "name": "stdout",
     "output_type": "stream",
     "text": [
      "<class 'pandas.core.frame.DataFrame'>\n",
      "Int64Index: 891 entries, 1 to 891\n",
      "Data columns (total 11 columns):\n",
      "Survived    891 non-null int64\n",
      "Pclass      891 non-null int64\n",
      "Name        891 non-null object\n",
      "Sex         891 non-null object\n",
      "Age         714 non-null float64\n",
      "SibSp       891 non-null int64\n",
      "Parch       891 non-null int64\n",
      "Ticket      891 non-null object\n",
      "Fare        891 non-null float64\n",
      "Cabin       204 non-null object\n",
      "Embarked    889 non-null object\n",
      "dtypes: float64(2), int64(4), object(5)\n",
      "memory usage: 83.5+ KB\n"
     ]
    }
   ],
   "source": [
    "train_data.info()"
   ]
  },
  {
   "cell_type": "code",
   "execution_count": 11,
   "metadata": {},
   "outputs": [
    {
     "name": "stdout",
     "output_type": "stream",
     "text": [
      "<class 'pandas.core.frame.DataFrame'>\n",
      "Int64Index: 418 entries, 892 to 1309\n",
      "Data columns (total 10 columns):\n",
      "Pclass      418 non-null int64\n",
      "Name        418 non-null object\n",
      "Sex         418 non-null object\n",
      "Age         332 non-null float64\n",
      "SibSp       418 non-null int64\n",
      "Parch       418 non-null int64\n",
      "Ticket      418 non-null object\n",
      "Fare        417 non-null float64\n",
      "Cabin       91 non-null object\n",
      "Embarked    418 non-null object\n",
      "dtypes: float64(2), int64(3), object(5)\n",
      "memory usage: 35.9+ KB\n"
     ]
    }
   ],
   "source": [
    "test_data.info()"
   ]
  },
  {
   "cell_type": "code",
   "execution_count": null,
   "metadata": {},
   "outputs": [],
   "source": []
  },
  {
   "cell_type": "markdown",
   "metadata": {},
   "source": [
    "## Taking care of missing values"
   ]
  },
  {
   "cell_type": "markdown",
   "metadata": {},
   "source": [
    "#### ================== Training Data ========================"
   ]
  },
  {
   "cell_type": "code",
   "execution_count": 12,
   "metadata": {},
   "outputs": [
    {
     "data": {
      "text/plain": [
       "Survived    891\n",
       "Pclass      891\n",
       "Name        891\n",
       "Sex         891\n",
       "Age         714\n",
       "SibSp       891\n",
       "Parch       891\n",
       "Ticket      891\n",
       "Fare        891\n",
       "Cabin       204\n",
       "Embarked    889\n",
       "dtype: int64"
      ]
     },
     "execution_count": 12,
     "metadata": {},
     "output_type": "execute_result"
    }
   ],
   "source": [
    "train_data.count()"
   ]
  },
  {
   "cell_type": "code",
   "execution_count": 13,
   "metadata": {},
   "outputs": [],
   "source": [
    "# Dropping Cabin because it contains too many Nulls to be filled, \n",
    "# and names and Ticket because they won't be so useful for the training"
   ]
  },
  {
   "cell_type": "code",
   "execution_count": 14,
   "metadata": {},
   "outputs": [],
   "source": [
    "train_data.drop(['Name','Ticket','Cabin'],axis=1,inplace=True)"
   ]
  },
  {
   "cell_type": "code",
   "execution_count": 15,
   "metadata": {},
   "outputs": [
    {
     "data": {
      "text/html": [
       "<div>\n",
       "<style scoped>\n",
       "    .dataframe tbody tr th:only-of-type {\n",
       "        vertical-align: middle;\n",
       "    }\n",
       "\n",
       "    .dataframe tbody tr th {\n",
       "        vertical-align: top;\n",
       "    }\n",
       "\n",
       "    .dataframe thead th {\n",
       "        text-align: right;\n",
       "    }\n",
       "</style>\n",
       "<table border=\"1\" class=\"dataframe\">\n",
       "  <thead>\n",
       "    <tr style=\"text-align: right;\">\n",
       "      <th></th>\n",
       "      <th>Survived</th>\n",
       "      <th>Pclass</th>\n",
       "      <th>Sex</th>\n",
       "      <th>Age</th>\n",
       "      <th>SibSp</th>\n",
       "      <th>Parch</th>\n",
       "      <th>Fare</th>\n",
       "      <th>Embarked</th>\n",
       "    </tr>\n",
       "    <tr>\n",
       "      <th>PassengerId</th>\n",
       "      <th></th>\n",
       "      <th></th>\n",
       "      <th></th>\n",
       "      <th></th>\n",
       "      <th></th>\n",
       "      <th></th>\n",
       "      <th></th>\n",
       "      <th></th>\n",
       "    </tr>\n",
       "  </thead>\n",
       "  <tbody>\n",
       "    <tr>\n",
       "      <th>1</th>\n",
       "      <td>0</td>\n",
       "      <td>3</td>\n",
       "      <td>male</td>\n",
       "      <td>22.0</td>\n",
       "      <td>1</td>\n",
       "      <td>0</td>\n",
       "      <td>7.2500</td>\n",
       "      <td>S</td>\n",
       "    </tr>\n",
       "    <tr>\n",
       "      <th>2</th>\n",
       "      <td>1</td>\n",
       "      <td>1</td>\n",
       "      <td>female</td>\n",
       "      <td>38.0</td>\n",
       "      <td>1</td>\n",
       "      <td>0</td>\n",
       "      <td>71.2833</td>\n",
       "      <td>C</td>\n",
       "    </tr>\n",
       "    <tr>\n",
       "      <th>3</th>\n",
       "      <td>1</td>\n",
       "      <td>3</td>\n",
       "      <td>female</td>\n",
       "      <td>26.0</td>\n",
       "      <td>0</td>\n",
       "      <td>0</td>\n",
       "      <td>7.9250</td>\n",
       "      <td>S</td>\n",
       "    </tr>\n",
       "    <tr>\n",
       "      <th>4</th>\n",
       "      <td>1</td>\n",
       "      <td>1</td>\n",
       "      <td>female</td>\n",
       "      <td>35.0</td>\n",
       "      <td>1</td>\n",
       "      <td>0</td>\n",
       "      <td>53.1000</td>\n",
       "      <td>S</td>\n",
       "    </tr>\n",
       "    <tr>\n",
       "      <th>5</th>\n",
       "      <td>0</td>\n",
       "      <td>3</td>\n",
       "      <td>male</td>\n",
       "      <td>35.0</td>\n",
       "      <td>0</td>\n",
       "      <td>0</td>\n",
       "      <td>8.0500</td>\n",
       "      <td>S</td>\n",
       "    </tr>\n",
       "  </tbody>\n",
       "</table>\n",
       "</div>"
      ],
      "text/plain": [
       "             Survived  Pclass     Sex   Age  SibSp  Parch     Fare Embarked\n",
       "PassengerId                                                                \n",
       "1                   0       3    male  22.0      1      0   7.2500        S\n",
       "2                   1       1  female  38.0      1      0  71.2833        C\n",
       "3                   1       3  female  26.0      0      0   7.9250        S\n",
       "4                   1       1  female  35.0      1      0  53.1000        S\n",
       "5                   0       3    male  35.0      0      0   8.0500        S"
      ]
     },
     "execution_count": 15,
     "metadata": {},
     "output_type": "execute_result"
    }
   ],
   "source": [
    "train_data.head()"
   ]
  },
  {
   "cell_type": "code",
   "execution_count": null,
   "metadata": {},
   "outputs": [],
   "source": []
  },
  {
   "cell_type": "code",
   "execution_count": 16,
   "metadata": {},
   "outputs": [],
   "source": [
    "# Filling missing values in Age with Mean() of Age column and rounding up age to 1dp\n",
    "# Filling missing values of Embarked with Mode() of Embarked Column"
   ]
  },
  {
   "cell_type": "code",
   "execution_count": 17,
   "metadata": {},
   "outputs": [],
   "source": [
    "train_data.Age.fillna(train_data.Age.mean(), axis=0, inplace=True)"
   ]
  },
  {
   "cell_type": "code",
   "execution_count": 18,
   "metadata": {},
   "outputs": [],
   "source": [
    "train_data.Age = train_data.Age.apply(lambda x: np.round(x,1))"
   ]
  },
  {
   "cell_type": "code",
   "execution_count": 19,
   "metadata": {},
   "outputs": [],
   "source": [
    "train_data.Embarked.fillna(train_data.Embarked.mode()[0], axis=0, inplace=True)"
   ]
  },
  {
   "cell_type": "code",
   "execution_count": null,
   "metadata": {},
   "outputs": [],
   "source": []
  },
  {
   "cell_type": "code",
   "execution_count": 20,
   "metadata": {},
   "outputs": [
    {
     "data": {
      "text/plain": [
       "Survived    891\n",
       "Pclass      891\n",
       "Sex         891\n",
       "Age         891\n",
       "SibSp       891\n",
       "Parch       891\n",
       "Fare        891\n",
       "Embarked    891\n",
       "dtype: int64"
      ]
     },
     "execution_count": 20,
     "metadata": {},
     "output_type": "execute_result"
    }
   ],
   "source": [
    "train_data.count()"
   ]
  },
  {
   "cell_type": "code",
   "execution_count": 21,
   "metadata": {},
   "outputs": [
    {
     "data": {
      "text/html": [
       "<div>\n",
       "<style scoped>\n",
       "    .dataframe tbody tr th:only-of-type {\n",
       "        vertical-align: middle;\n",
       "    }\n",
       "\n",
       "    .dataframe tbody tr th {\n",
       "        vertical-align: top;\n",
       "    }\n",
       "\n",
       "    .dataframe thead th {\n",
       "        text-align: right;\n",
       "    }\n",
       "</style>\n",
       "<table border=\"1\" class=\"dataframe\">\n",
       "  <thead>\n",
       "    <tr style=\"text-align: right;\">\n",
       "      <th></th>\n",
       "      <th>Survived</th>\n",
       "      <th>Pclass</th>\n",
       "      <th>Sex</th>\n",
       "      <th>Age</th>\n",
       "      <th>SibSp</th>\n",
       "      <th>Parch</th>\n",
       "      <th>Fare</th>\n",
       "      <th>Embarked</th>\n",
       "    </tr>\n",
       "    <tr>\n",
       "      <th>PassengerId</th>\n",
       "      <th></th>\n",
       "      <th></th>\n",
       "      <th></th>\n",
       "      <th></th>\n",
       "      <th></th>\n",
       "      <th></th>\n",
       "      <th></th>\n",
       "      <th></th>\n",
       "    </tr>\n",
       "  </thead>\n",
       "  <tbody>\n",
       "    <tr>\n",
       "      <th>1</th>\n",
       "      <td>0</td>\n",
       "      <td>3</td>\n",
       "      <td>male</td>\n",
       "      <td>22.0</td>\n",
       "      <td>1</td>\n",
       "      <td>0</td>\n",
       "      <td>7.2500</td>\n",
       "      <td>S</td>\n",
       "    </tr>\n",
       "    <tr>\n",
       "      <th>2</th>\n",
       "      <td>1</td>\n",
       "      <td>1</td>\n",
       "      <td>female</td>\n",
       "      <td>38.0</td>\n",
       "      <td>1</td>\n",
       "      <td>0</td>\n",
       "      <td>71.2833</td>\n",
       "      <td>C</td>\n",
       "    </tr>\n",
       "  </tbody>\n",
       "</table>\n",
       "</div>"
      ],
      "text/plain": [
       "             Survived  Pclass     Sex   Age  SibSp  Parch     Fare Embarked\n",
       "PassengerId                                                                \n",
       "1                   0       3    male  22.0      1      0   7.2500        S\n",
       "2                   1       1  female  38.0      1      0  71.2833        C"
      ]
     },
     "execution_count": 21,
     "metadata": {},
     "output_type": "execute_result"
    }
   ],
   "source": [
    "train_data.head(2)"
   ]
  },
  {
   "cell_type": "code",
   "execution_count": null,
   "metadata": {},
   "outputs": [],
   "source": []
  },
  {
   "cell_type": "markdown",
   "metadata": {},
   "source": [
    "#### ==================== Test Data ====================="
   ]
  },
  {
   "cell_type": "code",
   "execution_count": 22,
   "metadata": {},
   "outputs": [
    {
     "data": {
      "text/html": [
       "<div>\n",
       "<style scoped>\n",
       "    .dataframe tbody tr th:only-of-type {\n",
       "        vertical-align: middle;\n",
       "    }\n",
       "\n",
       "    .dataframe tbody tr th {\n",
       "        vertical-align: top;\n",
       "    }\n",
       "\n",
       "    .dataframe thead th {\n",
       "        text-align: right;\n",
       "    }\n",
       "</style>\n",
       "<table border=\"1\" class=\"dataframe\">\n",
       "  <thead>\n",
       "    <tr style=\"text-align: right;\">\n",
       "      <th></th>\n",
       "      <th>Pclass</th>\n",
       "      <th>Name</th>\n",
       "      <th>Sex</th>\n",
       "      <th>Age</th>\n",
       "      <th>SibSp</th>\n",
       "      <th>Parch</th>\n",
       "      <th>Ticket</th>\n",
       "      <th>Fare</th>\n",
       "      <th>Cabin</th>\n",
       "      <th>Embarked</th>\n",
       "    </tr>\n",
       "    <tr>\n",
       "      <th>PassengerId</th>\n",
       "      <th></th>\n",
       "      <th></th>\n",
       "      <th></th>\n",
       "      <th></th>\n",
       "      <th></th>\n",
       "      <th></th>\n",
       "      <th></th>\n",
       "      <th></th>\n",
       "      <th></th>\n",
       "      <th></th>\n",
       "    </tr>\n",
       "  </thead>\n",
       "  <tbody>\n",
       "    <tr>\n",
       "      <th>892</th>\n",
       "      <td>3</td>\n",
       "      <td>Kelly, Mr. James</td>\n",
       "      <td>male</td>\n",
       "      <td>34.5</td>\n",
       "      <td>0</td>\n",
       "      <td>0</td>\n",
       "      <td>330911</td>\n",
       "      <td>7.8292</td>\n",
       "      <td>NaN</td>\n",
       "      <td>Q</td>\n",
       "    </tr>\n",
       "    <tr>\n",
       "      <th>893</th>\n",
       "      <td>3</td>\n",
       "      <td>Wilkes, Mrs. James (Ellen Needs)</td>\n",
       "      <td>female</td>\n",
       "      <td>47.0</td>\n",
       "      <td>1</td>\n",
       "      <td>0</td>\n",
       "      <td>363272</td>\n",
       "      <td>7.0000</td>\n",
       "      <td>NaN</td>\n",
       "      <td>S</td>\n",
       "    </tr>\n",
       "  </tbody>\n",
       "</table>\n",
       "</div>"
      ],
      "text/plain": [
       "             Pclass                              Name     Sex   Age  SibSp  \\\n",
       "PassengerId                                                                  \n",
       "892               3                  Kelly, Mr. James    male  34.5      0   \n",
       "893               3  Wilkes, Mrs. James (Ellen Needs)  female  47.0      1   \n",
       "\n",
       "             Parch  Ticket    Fare Cabin Embarked  \n",
       "PassengerId                                        \n",
       "892              0  330911  7.8292   NaN        Q  \n",
       "893              0  363272  7.0000   NaN        S  "
      ]
     },
     "execution_count": 22,
     "metadata": {},
     "output_type": "execute_result"
    }
   ],
   "source": [
    "test_data.head(2)"
   ]
  },
  {
   "cell_type": "code",
   "execution_count": 23,
   "metadata": {},
   "outputs": [
    {
     "data": {
      "text/plain": [
       "Pclass      418\n",
       "Name        418\n",
       "Sex         418\n",
       "Age         332\n",
       "SibSp       418\n",
       "Parch       418\n",
       "Ticket      418\n",
       "Fare        417\n",
       "Cabin        91\n",
       "Embarked    418\n",
       "dtype: int64"
      ]
     },
     "execution_count": 23,
     "metadata": {},
     "output_type": "execute_result"
    }
   ],
   "source": [
    "test_data.count()"
   ]
  },
  {
   "cell_type": "code",
   "execution_count": 24,
   "metadata": {},
   "outputs": [],
   "source": [
    "# Dropping irrelevant columns and Cabin column with too many missing data"
   ]
  },
  {
   "cell_type": "code",
   "execution_count": 25,
   "metadata": {},
   "outputs": [],
   "source": [
    "test_data.drop(['Name','Ticket','Cabin'],axis=1,inplace=True)"
   ]
  },
  {
   "cell_type": "code",
   "execution_count": 26,
   "metadata": {},
   "outputs": [
    {
     "data": {
      "text/html": [
       "<div>\n",
       "<style scoped>\n",
       "    .dataframe tbody tr th:only-of-type {\n",
       "        vertical-align: middle;\n",
       "    }\n",
       "\n",
       "    .dataframe tbody tr th {\n",
       "        vertical-align: top;\n",
       "    }\n",
       "\n",
       "    .dataframe thead th {\n",
       "        text-align: right;\n",
       "    }\n",
       "</style>\n",
       "<table border=\"1\" class=\"dataframe\">\n",
       "  <thead>\n",
       "    <tr style=\"text-align: right;\">\n",
       "      <th></th>\n",
       "      <th>Pclass</th>\n",
       "      <th>Sex</th>\n",
       "      <th>Age</th>\n",
       "      <th>SibSp</th>\n",
       "      <th>Parch</th>\n",
       "      <th>Fare</th>\n",
       "      <th>Embarked</th>\n",
       "    </tr>\n",
       "    <tr>\n",
       "      <th>PassengerId</th>\n",
       "      <th></th>\n",
       "      <th></th>\n",
       "      <th></th>\n",
       "      <th></th>\n",
       "      <th></th>\n",
       "      <th></th>\n",
       "      <th></th>\n",
       "    </tr>\n",
       "  </thead>\n",
       "  <tbody>\n",
       "    <tr>\n",
       "      <th>892</th>\n",
       "      <td>3</td>\n",
       "      <td>male</td>\n",
       "      <td>34.5</td>\n",
       "      <td>0</td>\n",
       "      <td>0</td>\n",
       "      <td>7.8292</td>\n",
       "      <td>Q</td>\n",
       "    </tr>\n",
       "    <tr>\n",
       "      <th>893</th>\n",
       "      <td>3</td>\n",
       "      <td>female</td>\n",
       "      <td>47.0</td>\n",
       "      <td>1</td>\n",
       "      <td>0</td>\n",
       "      <td>7.0000</td>\n",
       "      <td>S</td>\n",
       "    </tr>\n",
       "    <tr>\n",
       "      <th>894</th>\n",
       "      <td>2</td>\n",
       "      <td>male</td>\n",
       "      <td>62.0</td>\n",
       "      <td>0</td>\n",
       "      <td>0</td>\n",
       "      <td>9.6875</td>\n",
       "      <td>Q</td>\n",
       "    </tr>\n",
       "    <tr>\n",
       "      <th>895</th>\n",
       "      <td>3</td>\n",
       "      <td>male</td>\n",
       "      <td>27.0</td>\n",
       "      <td>0</td>\n",
       "      <td>0</td>\n",
       "      <td>8.6625</td>\n",
       "      <td>S</td>\n",
       "    </tr>\n",
       "    <tr>\n",
       "      <th>896</th>\n",
       "      <td>3</td>\n",
       "      <td>female</td>\n",
       "      <td>22.0</td>\n",
       "      <td>1</td>\n",
       "      <td>1</td>\n",
       "      <td>12.2875</td>\n",
       "      <td>S</td>\n",
       "    </tr>\n",
       "  </tbody>\n",
       "</table>\n",
       "</div>"
      ],
      "text/plain": [
       "             Pclass     Sex   Age  SibSp  Parch     Fare Embarked\n",
       "PassengerId                                                      \n",
       "892               3    male  34.5      0      0   7.8292        Q\n",
       "893               3  female  47.0      1      0   7.0000        S\n",
       "894               2    male  62.0      0      0   9.6875        Q\n",
       "895               3    male  27.0      0      0   8.6625        S\n",
       "896               3  female  22.0      1      1  12.2875        S"
      ]
     },
     "execution_count": 26,
     "metadata": {},
     "output_type": "execute_result"
    }
   ],
   "source": [
    "test_data.head()"
   ]
  },
  {
   "cell_type": "code",
   "execution_count": null,
   "metadata": {},
   "outputs": [],
   "source": []
  },
  {
   "cell_type": "code",
   "execution_count": 27,
   "metadata": {},
   "outputs": [
    {
     "data": {
      "text/plain": [
       "Pclass      418\n",
       "Sex         418\n",
       "Age         332\n",
       "SibSp       418\n",
       "Parch       418\n",
       "Fare        417\n",
       "Embarked    418\n",
       "dtype: int64"
      ]
     },
     "execution_count": 27,
     "metadata": {},
     "output_type": "execute_result"
    }
   ],
   "source": [
    "test_data.count()"
   ]
  },
  {
   "cell_type": "code",
   "execution_count": null,
   "metadata": {},
   "outputs": [],
   "source": []
  },
  {
   "cell_type": "code",
   "execution_count": 28,
   "metadata": {},
   "outputs": [],
   "source": [
    "# Filling missing values in Age and Fare with Mean() of Age and Mean() of Fare columns respectively \n",
    "# and rounding up age to 1dp"
   ]
  },
  {
   "cell_type": "code",
   "execution_count": 29,
   "metadata": {},
   "outputs": [],
   "source": [
    "test_data.Age.fillna(test_data.Age.mean(), axis=0, inplace=True)"
   ]
  },
  {
   "cell_type": "code",
   "execution_count": 30,
   "metadata": {},
   "outputs": [],
   "source": [
    "test_data.Fare.fillna(test_data.Fare.mean(), axis=0, inplace=True)"
   ]
  },
  {
   "cell_type": "code",
   "execution_count": 31,
   "metadata": {},
   "outputs": [],
   "source": [
    "test_data.Age = test_data.Age.apply(lambda x: np.round(x,1))"
   ]
  },
  {
   "cell_type": "code",
   "execution_count": null,
   "metadata": {},
   "outputs": [],
   "source": []
  },
  {
   "cell_type": "code",
   "execution_count": 32,
   "metadata": {},
   "outputs": [
    {
     "data": {
      "text/plain": [
       "Pclass      418\n",
       "Sex         418\n",
       "Age         418\n",
       "SibSp       418\n",
       "Parch       418\n",
       "Fare        418\n",
       "Embarked    418\n",
       "dtype: int64"
      ]
     },
     "execution_count": 32,
     "metadata": {},
     "output_type": "execute_result"
    }
   ],
   "source": [
    "test_data.count()"
   ]
  },
  {
   "cell_type": "code",
   "execution_count": null,
   "metadata": {},
   "outputs": [],
   "source": []
  },
  {
   "cell_type": "markdown",
   "metadata": {},
   "source": [
    "# Exploratory Data Analysis, EDA (on Training dataset)"
   ]
  },
  {
   "cell_type": "code",
   "execution_count": 33,
   "metadata": {},
   "outputs": [
    {
     "data": {
      "text/plain": [
       "<matplotlib.axes._subplots.AxesSubplot at 0x2d137960cc0>"
      ]
     },
     "execution_count": 33,
     "metadata": {},
     "output_type": "execute_result"
    },
    {
     "data": {
      "image/png": "[encoded data removed]",
      "text/plain": [
       "<Figure size 432x288 with 1 Axes>"
      ]
     },
     "metadata": {},
     "output_type": "display_data"
    }
   ],
   "source": [
    "plt.title('Number of survivors Based on Gender')\n",
    "sns.countplot(x=\"Sex\",data=train_data,hue=\"Survived\")"
   ]
  },
  {
   "cell_type": "markdown",
   "metadata": {},
   "source": [
    "## Analysis:\n",
    "From the above chart Most of the male passengers died while most of the female passengers survived."
   ]
  },
  {
   "cell_type": "code",
   "execution_count": 34,
   "metadata": {},
   "outputs": [
    {
     "data": {
      "text/plain": [
       "<matplotlib.axes._subplots.AxesSubplot at 0x2d137a22a58>"
      ]
     },
     "execution_count": 34,
     "metadata": {},
     "output_type": "execute_result"
    },
    {
     "data": {
      "image/png": "[encoded data removed]",
      "text/plain": [
       "<Figure size 432x288 with 1 Axes>"
      ]
     },
     "metadata": {},
     "output_type": "display_data"
    }
   ],
   "source": [
    "plt.title('Number of survivors Based on PClass')\n",
    "sns.countplot(x=\"Pclass\",data=train_data,hue=\"Survived\")"
   ]
  },
  {
   "cell_type": "markdown",
   "metadata": {},
   "source": [
    "## Analysis\n",
    "Majority of the passengers who boarded 3rd Class died"
   ]
  },
  {
   "cell_type": "code",
   "execution_count": 35,
   "metadata": {},
   "outputs": [
    {
     "data": {
      "text/plain": [
       "<matplotlib.axes._subplots.AxesSubplot at 0x2d137ae2470>"
      ]
     },
     "execution_count": 35,
     "metadata": {},
     "output_type": "execute_result"
    },
    {
     "data": {
      "image/png": "[encoded data removed]",
      "text/plain": [
       "<Figure size 432x288 with 1 Axes>"
      ]
     },
     "metadata": {},
     "output_type": "display_data"
    }
   ],
   "source": [
    "plt.title('Gender of survivors vs Non-Survivors')\n",
    "sns.countplot(x=\"Survived\",data=train_data,hue=\"Sex\")"
   ]
  },
  {
   "cell_type": "code",
   "execution_count": 36,
   "metadata": {},
   "outputs": [
    {
     "name": "stderr",
     "output_type": "stream",
     "text": [
      "C:\\ProgramData\\Anaconda3\\lib\\site-packages\\matplotlib\\axes\\_axes.py:6462: UserWarning: The 'normed' kwarg is deprecated, and has been replaced by the 'density' kwarg.\n",
      "  warnings.warn(\"The 'normed' kwarg is deprecated, and has been \"\n"
     ]
    },
    {
     "data": {
      "text/plain": [
       "<matplotlib.axes._subplots.AxesSubplot at 0x2d137b3fc50>"
      ]
     },
     "execution_count": 36,
     "metadata": {},
     "output_type": "execute_result"
    },
    {
     "data": {
      "image/png": "[encoded data removed]",
      "text/plain": [
       "<Figure size 432x288 with 1 Axes>"
      ]
     },
     "metadata": {},
     "output_type": "display_data"
    }
   ],
   "source": [
    "plt.title('Age Distribution')\n",
    "sns.distplot(train_data.Age)"
   ]
  },
  {
   "cell_type": "markdown",
   "metadata": {},
   "source": [
    "# Analysis:\n",
    "Majority of the passengers are Youth "
   ]
  },
  {
   "cell_type": "code",
   "execution_count": 37,
   "metadata": {},
   "outputs": [
    {
     "name": "stderr",
     "output_type": "stream",
     "text": [
      "C:\\ProgramData\\Anaconda3\\lib\\site-packages\\matplotlib\\axes\\_axes.py:6462: UserWarning: The 'normed' kwarg is deprecated, and has been replaced by the 'density' kwarg.\n",
      "  warnings.warn(\"The 'normed' kwarg is deprecated, and has been \"\n"
     ]
    },
    {
     "data": {
      "text/plain": [
       "<matplotlib.axes._subplots.AxesSubplot at 0x2d137c1aa90>"
      ]
     },
     "execution_count": 37,
     "metadata": {},
     "output_type": "execute_result"
    },
    {
     "data": {
      "image/png": "[encoded data removed]",
      "text/plain": [
       "<Figure size 432x288 with 1 Axes>"
      ]
     },
     "metadata": {},
     "output_type": "display_data"
    }
   ],
   "source": [
    "plt.title('Fare Distribution')\n",
    "sns.distplot(train_data.Fare,bins=30)"
   ]
  },
  {
   "cell_type": "code",
   "execution_count": 38,
   "metadata": {},
   "outputs": [
    {
     "data": {
      "text/plain": [
       "<matplotlib.axes._subplots.AxesSubplot at 0x2d137efc320>"
      ]
     },
     "execution_count": 38,
     "metadata": {},
     "output_type": "execute_result"
    },
    {
     "data": {
      "image/png": "[encoded data removed]",
      "text/plain": [
       "<Figure size 432x288 with 1 Axes>"
      ]
     },
     "metadata": {},
     "output_type": "display_data"
    }
   ],
   "source": [
    "plt.title('Age Vs Parch')\n",
    "sns.barplot(x='Parch', y='Age',data=train_data,hue='Survived')"
   ]
  },
  {
   "cell_type": "markdown",
   "metadata": {},
   "source": [
    "## Analysis:\n",
    "    * Everyone in Parch 4 and parch 6 containing only elderly people (>=40) did not survive\n",
    "    * Almost half of the passengers in the remaining Parches, mostly youth (aged btw 18 and 40) survived"
   ]
  },
  {
   "cell_type": "code",
   "execution_count": 39,
   "metadata": {},
   "outputs": [
    {
     "data": {
      "text/plain": [
       "<matplotlib.axes._subplots.AxesSubplot at 0x2d137ff5c18>"
      ]
     },
     "execution_count": 39,
     "metadata": {},
     "output_type": "execute_result"
    },
    {
     "data": {
      "image/png": "[encoded data removed]",
      "text/plain": [
       "<Figure size 432x288 with 1 Axes>"
      ]
     },
     "metadata": {},
     "output_type": "display_data"
    }
   ],
   "source": [
    "plt.title('Age Vs Parch')\n",
    "sns.boxplot(x='Parch', y='Age',data=train_data,hue='Survived',palette='rainbow')"
   ]
  },
  {
   "cell_type": "code",
   "execution_count": 40,
   "metadata": {},
   "outputs": [],
   "source": [
    "correlation = train_data.corr()"
   ]
  },
  {
   "cell_type": "code",
   "execution_count": 41,
   "metadata": {},
   "outputs": [
    {
     "data": {
      "text/plain": [
       "<matplotlib.axes._subplots.AxesSubplot at 0x2d138427048>"
      ]
     },
     "execution_count": 41,
     "metadata": {},
     "output_type": "execute_result"
    },
    {
     "data": {
      "image/png": "[encoded data removed]",
      "text/plain": [
       "<Figure size 432x288 with 2 Axes>"
      ]
     },
     "metadata": {},
     "output_type": "display_data"
    }
   ],
   "source": [
    "sns.heatmap(correlation)"
   ]
  },
  {
   "cell_type": "code",
   "execution_count": null,
   "metadata": {},
   "outputs": [],
   "source": []
  },
  {
   "cell_type": "markdown",
   "metadata": {},
   "source": [
    "# More Preprocessing: Encoding \n",
    "Encoding categorical independent variables, Pclass, Sex, SibSp, Parch and Embarked"
   ]
  },
  {
   "cell_type": "code",
   "execution_count": 42,
   "metadata": {},
   "outputs": [],
   "source": [
    "from pandas import get_dummies"
   ]
  },
  {
   "cell_type": "markdown",
   "metadata": {},
   "source": [
    "### =================== Encoding Training and Test dataset ===================="
   ]
  },
  {
   "cell_type": "code",
   "execution_count": 43,
   "metadata": {},
   "outputs": [
    {
     "data": {
      "text/html": [
       "<div>\n",
       "<style scoped>\n",
       "    .dataframe tbody tr th:only-of-type {\n",
       "        vertical-align: middle;\n",
       "    }\n",
       "\n",
       "    .dataframe tbody tr th {\n",
       "        vertical-align: top;\n",
       "    }\n",
       "\n",
       "    .dataframe thead th {\n",
       "        text-align: right;\n",
       "    }\n",
       "</style>\n",
       "<table border=\"1\" class=\"dataframe\">\n",
       "  <thead>\n",
       "    <tr style=\"text-align: right;\">\n",
       "      <th></th>\n",
       "      <th>Survived</th>\n",
       "      <th>Pclass</th>\n",
       "      <th>Sex</th>\n",
       "      <th>Age</th>\n",
       "      <th>SibSp</th>\n",
       "      <th>Parch</th>\n",
       "      <th>Fare</th>\n",
       "      <th>Embarked</th>\n",
       "    </tr>\n",
       "    <tr>\n",
       "      <th>PassengerId</th>\n",
       "      <th></th>\n",
       "      <th></th>\n",
       "      <th></th>\n",
       "      <th></th>\n",
       "      <th></th>\n",
       "      <th></th>\n",
       "      <th></th>\n",
       "      <th></th>\n",
       "    </tr>\n",
       "  </thead>\n",
       "  <tbody>\n",
       "    <tr>\n",
       "      <th>1</th>\n",
       "      <td>0</td>\n",
       "      <td>3</td>\n",
       "      <td>male</td>\n",
       "      <td>22.0</td>\n",
       "      <td>1</td>\n",
       "      <td>0</td>\n",
       "      <td>7.2500</td>\n",
       "      <td>S</td>\n",
       "    </tr>\n",
       "    <tr>\n",
       "      <th>2</th>\n",
       "      <td>1</td>\n",
       "      <td>1</td>\n",
       "      <td>female</td>\n",
       "      <td>38.0</td>\n",
       "      <td>1</td>\n",
       "      <td>0</td>\n",
       "      <td>71.2833</td>\n",
       "      <td>C</td>\n",
       "    </tr>\n",
       "    <tr>\n",
       "      <th>3</th>\n",
       "      <td>1</td>\n",
       "      <td>3</td>\n",
       "      <td>female</td>\n",
       "      <td>26.0</td>\n",
       "      <td>0</td>\n",
       "      <td>0</td>\n",
       "      <td>7.9250</td>\n",
       "      <td>S</td>\n",
       "    </tr>\n",
       "    <tr>\n",
       "      <th>4</th>\n",
       "      <td>1</td>\n",
       "      <td>1</td>\n",
       "      <td>female</td>\n",
       "      <td>35.0</td>\n",
       "      <td>1</td>\n",
       "      <td>0</td>\n",
       "      <td>53.1000</td>\n",
       "      <td>S</td>\n",
       "    </tr>\n",
       "    <tr>\n",
       "      <th>5</th>\n",
       "      <td>0</td>\n",
       "      <td>3</td>\n",
       "      <td>male</td>\n",
       "      <td>35.0</td>\n",
       "      <td>0</td>\n",
       "      <td>0</td>\n",
       "      <td>8.0500</td>\n",
       "      <td>S</td>\n",
       "    </tr>\n",
       "  </tbody>\n",
       "</table>\n",
       "</div>"
      ],
      "text/plain": [
       "             Survived  Pclass     Sex   Age  SibSp  Parch     Fare Embarked\n",
       "PassengerId                                                                \n",
       "1                   0       3    male  22.0      1      0   7.2500        S\n",
       "2                   1       1  female  38.0      1      0  71.2833        C\n",
       "3                   1       3  female  26.0      0      0   7.9250        S\n",
       "4                   1       1  female  35.0      1      0  53.1000        S\n",
       "5                   0       3    male  35.0      0      0   8.0500        S"
      ]
     },
     "execution_count": 43,
     "metadata": {},
     "output_type": "execute_result"
    }
   ],
   "source": [
    "train_data.head()"
   ]
  },
  {
   "cell_type": "code",
   "execution_count": null,
   "metadata": {},
   "outputs": [],
   "source": []
  },
  {
   "cell_type": "code",
   "execution_count": 44,
   "metadata": {},
   "outputs": [],
   "source": [
    "# Training Set Encoding\n",
    "#pclass_train = get_dummies(train_data.Pclass)\n",
    "gender_train = get_dummies(train_data.Sex)\n",
    "#sibsp_train = get_dummies(train_data.SibSp)\n",
    "#parch_train = get_dummies(train_data.Parch)\n",
    "embarked_train = get_dummies(train_data.Embarked)"
   ]
  },
  {
   "cell_type": "code",
   "execution_count": 45,
   "metadata": {},
   "outputs": [],
   "source": [
    "# Test Set Encoding\n",
    "#pclass_test = get_dummies(test_data.Pclass)\n",
    "gender_test = get_dummies(test_data.Sex)\n",
    "#parch_test = get_dummies(test_data.Parch)\n",
    "embarked_test = get_dummies(test_data.Embarked)"
   ]
  },
  {
   "cell_type": "markdown",
   "metadata": {},
   "source": [
    "## ------------ Training Encoded-----------"
   ]
  },
  {
   "cell_type": "code",
   "execution_count": 46,
   "metadata": {},
   "outputs": [],
   "source": [
    "#pclass_train.head(2)"
   ]
  },
  {
   "cell_type": "code",
   "execution_count": 47,
   "metadata": {},
   "outputs": [
    {
     "data": {
      "text/html": [
       "<div>\n",
       "<style scoped>\n",
       "    .dataframe tbody tr th:only-of-type {\n",
       "        vertical-align: middle;\n",
       "    }\n",
       "\n",
       "    .dataframe tbody tr th {\n",
       "        vertical-align: top;\n",
       "    }\n",
       "\n",
       "    .dataframe thead th {\n",
       "        text-align: right;\n",
       "    }\n",
       "</style>\n",
       "<table border=\"1\" class=\"dataframe\">\n",
       "  <thead>\n",
       "    <tr style=\"text-align: right;\">\n",
       "      <th></th>\n",
       "      <th>female</th>\n",
       "      <th>male</th>\n",
       "    </tr>\n",
       "    <tr>\n",
       "      <th>PassengerId</th>\n",
       "      <th></th>\n",
       "      <th></th>\n",
       "    </tr>\n",
       "  </thead>\n",
       "  <tbody>\n",
       "    <tr>\n",
       "      <th>1</th>\n",
       "      <td>0</td>\n",
       "      <td>1</td>\n",
       "    </tr>\n",
       "    <tr>\n",
       "      <th>2</th>\n",
       "      <td>1</td>\n",
       "      <td>0</td>\n",
       "    </tr>\n",
       "  </tbody>\n",
       "</table>\n",
       "</div>"
      ],
      "text/plain": [
       "             female  male\n",
       "PassengerId              \n",
       "1                 0     1\n",
       "2                 1     0"
      ]
     },
     "execution_count": 47,
     "metadata": {},
     "output_type": "execute_result"
    }
   ],
   "source": [
    "gender_train.head(2)"
   ]
  },
  {
   "cell_type": "code",
   "execution_count": null,
   "metadata": {},
   "outputs": [],
   "source": []
  },
  {
   "cell_type": "code",
   "execution_count": 48,
   "metadata": {},
   "outputs": [],
   "source": [
    "#parch_train.head(2)"
   ]
  },
  {
   "cell_type": "code",
   "execution_count": 49,
   "metadata": {},
   "outputs": [
    {
     "data": {
      "text/html": [
       "<div>\n",
       "<style scoped>\n",
       "    .dataframe tbody tr th:only-of-type {\n",
       "        vertical-align: middle;\n",
       "    }\n",
       "\n",
       "    .dataframe tbody tr th {\n",
       "        vertical-align: top;\n",
       "    }\n",
       "\n",
       "    .dataframe thead th {\n",
       "        text-align: right;\n",
       "    }\n",
       "</style>\n",
       "<table border=\"1\" class=\"dataframe\">\n",
       "  <thead>\n",
       "    <tr style=\"text-align: right;\">\n",
       "      <th></th>\n",
       "      <th>C</th>\n",
       "      <th>Q</th>\n",
       "      <th>S</th>\n",
       "    </tr>\n",
       "    <tr>\n",
       "      <th>PassengerId</th>\n",
       "      <th></th>\n",
       "      <th></th>\n",
       "      <th></th>\n",
       "    </tr>\n",
       "  </thead>\n",
       "  <tbody>\n",
       "    <tr>\n",
       "      <th>1</th>\n",
       "      <td>0</td>\n",
       "      <td>0</td>\n",
       "      <td>1</td>\n",
       "    </tr>\n",
       "    <tr>\n",
       "      <th>2</th>\n",
       "      <td>1</td>\n",
       "      <td>0</td>\n",
       "      <td>0</td>\n",
       "    </tr>\n",
       "  </tbody>\n",
       "</table>\n",
       "</div>"
      ],
      "text/plain": [
       "             C  Q  S\n",
       "PassengerId         \n",
       "1            0  0  1\n",
       "2            1  0  0"
      ]
     },
     "execution_count": 49,
     "metadata": {},
     "output_type": "execute_result"
    }
   ],
   "source": [
    "embarked_train.head(2)"
   ]
  },
  {
   "cell_type": "code",
   "execution_count": null,
   "metadata": {},
   "outputs": [],
   "source": []
  },
  {
   "cell_type": "markdown",
   "metadata": {},
   "source": [
    "## ------------ Test Encoded -----------"
   ]
  },
  {
   "cell_type": "code",
   "execution_count": 50,
   "metadata": {},
   "outputs": [],
   "source": [
    "#pclass_test.head(2)"
   ]
  },
  {
   "cell_type": "code",
   "execution_count": 51,
   "metadata": {},
   "outputs": [
    {
     "data": {
      "text/html": [
       "<div>\n",
       "<style scoped>\n",
       "    .dataframe tbody tr th:only-of-type {\n",
       "        vertical-align: middle;\n",
       "    }\n",
       "\n",
       "    .dataframe tbody tr th {\n",
       "        vertical-align: top;\n",
       "    }\n",
       "\n",
       "    .dataframe thead th {\n",
       "        text-align: right;\n",
       "    }\n",
       "</style>\n",
       "<table border=\"1\" class=\"dataframe\">\n",
       "  <thead>\n",
       "    <tr style=\"text-align: right;\">\n",
       "      <th></th>\n",
       "      <th>female</th>\n",
       "      <th>male</th>\n",
       "    </tr>\n",
       "    <tr>\n",
       "      <th>PassengerId</th>\n",
       "      <th></th>\n",
       "      <th></th>\n",
       "    </tr>\n",
       "  </thead>\n",
       "  <tbody>\n",
       "    <tr>\n",
       "      <th>892</th>\n",
       "      <td>0</td>\n",
       "      <td>1</td>\n",
       "    </tr>\n",
       "    <tr>\n",
       "      <th>893</th>\n",
       "      <td>1</td>\n",
       "      <td>0</td>\n",
       "    </tr>\n",
       "  </tbody>\n",
       "</table>\n",
       "</div>"
      ],
      "text/plain": [
       "             female  male\n",
       "PassengerId              \n",
       "892               0     1\n",
       "893               1     0"
      ]
     },
     "execution_count": 51,
     "metadata": {},
     "output_type": "execute_result"
    }
   ],
   "source": [
    "gender_test.head(2)"
   ]
  },
  {
   "cell_type": "code",
   "execution_count": null,
   "metadata": {},
   "outputs": [],
   "source": []
  },
  {
   "cell_type": "code",
   "execution_count": 52,
   "metadata": {},
   "outputs": [],
   "source": [
    "#parch_test.head(2)"
   ]
  },
  {
   "cell_type": "code",
   "execution_count": 53,
   "metadata": {},
   "outputs": [
    {
     "data": {
      "text/html": [
       "<div>\n",
       "<style scoped>\n",
       "    .dataframe tbody tr th:only-of-type {\n",
       "        vertical-align: middle;\n",
       "    }\n",
       "\n",
       "    .dataframe tbody tr th {\n",
       "        vertical-align: top;\n",
       "    }\n",
       "\n",
       "    .dataframe thead th {\n",
       "        text-align: right;\n",
       "    }\n",
       "</style>\n",
       "<table border=\"1\" class=\"dataframe\">\n",
       "  <thead>\n",
       "    <tr style=\"text-align: right;\">\n",
       "      <th></th>\n",
       "      <th>C</th>\n",
       "      <th>Q</th>\n",
       "      <th>S</th>\n",
       "    </tr>\n",
       "    <tr>\n",
       "      <th>PassengerId</th>\n",
       "      <th></th>\n",
       "      <th></th>\n",
       "      <th></th>\n",
       "    </tr>\n",
       "  </thead>\n",
       "  <tbody>\n",
       "    <tr>\n",
       "      <th>892</th>\n",
       "      <td>0</td>\n",
       "      <td>1</td>\n",
       "      <td>0</td>\n",
       "    </tr>\n",
       "    <tr>\n",
       "      <th>893</th>\n",
       "      <td>0</td>\n",
       "      <td>0</td>\n",
       "      <td>1</td>\n",
       "    </tr>\n",
       "  </tbody>\n",
       "</table>\n",
       "</div>"
      ],
      "text/plain": [
       "             C  Q  S\n",
       "PassengerId         \n",
       "892          0  1  0\n",
       "893          0  0  1"
      ]
     },
     "execution_count": 53,
     "metadata": {},
     "output_type": "execute_result"
    }
   ],
   "source": [
    "embarked_test.head(2)"
   ]
  },
  {
   "cell_type": "code",
   "execution_count": null,
   "metadata": {},
   "outputs": [],
   "source": []
  },
  {
   "cell_type": "markdown",
   "metadata": {},
   "source": [
    "### =================== Removing First Column(s) to solve Multi-colinearity Problem ====================\n",
    "To Solve the problem of Multicolinearity, There is need to drop one of the columns of the encoded \n",
    "variables since one determines the other(s)"
   ]
  },
  {
   "cell_type": "code",
   "execution_count": 54,
   "metadata": {},
   "outputs": [],
   "source": [
    "# Training encoded variables\n",
    "#pclass_train.drop(1, axis=1, inplace=True)\n",
    "gender_train.drop('female', axis=1, inplace=True)\n",
    "#sibsp_train.drop(0, axis=1, inplace=True)\n",
    "#parch_train.drop(0, axis=1, inplace=True)\n",
    "embarked_train.drop('C', axis=1, inplace=True)"
   ]
  },
  {
   "cell_type": "code",
   "execution_count": 55,
   "metadata": {},
   "outputs": [],
   "source": [
    "# Test encoded variables\n",
    "#pclass_test.drop(1, axis=1, inplace=True)\n",
    "gender_test.drop('female', axis=1, inplace=True)\n",
    "#sibsp_test.drop(0, axis=1, inplace=True)\n",
    "#parch_test.drop(0, axis=1, inplace=True)\n",
    "embarked_test.drop('C', axis=1, inplace=True)"
   ]
  },
  {
   "cell_type": "code",
   "execution_count": null,
   "metadata": {},
   "outputs": [],
   "source": []
  },
  {
   "cell_type": "code",
   "execution_count": null,
   "metadata": {},
   "outputs": [],
   "source": []
  },
  {
   "cell_type": "markdown",
   "metadata": {},
   "source": [
    "### ====== Replacing the Original Variables with the encoded ones ==========="
   ]
  },
  {
   "cell_type": "code",
   "execution_count": 56,
   "metadata": {},
   "outputs": [],
   "source": [
    "# Dropping original Columns\n",
    "train_data.drop(['Sex','Embarked'],axis=1,inplace=True)\n",
    "test_data.drop(['Sex','Embarked'],axis=1,inplace=True)"
   ]
  },
  {
   "cell_type": "code",
   "execution_count": 57,
   "metadata": {},
   "outputs": [],
   "source": [
    "# Adding the Encoded Columns\n",
    "train_data = pd.concat([train_data, gender_train, embarked_train], axis=1)\n",
    "test_data = pd.concat([test_data, gender_test, embarked_test], axis=1)"
   ]
  },
  {
   "cell_type": "code",
   "execution_count": 58,
   "metadata": {},
   "outputs": [
    {
     "data": {
      "text/html": [
       "<div>\n",
       "<style scoped>\n",
       "    .dataframe tbody tr th:only-of-type {\n",
       "        vertical-align: middle;\n",
       "    }\n",
       "\n",
       "    .dataframe tbody tr th {\n",
       "        vertical-align: top;\n",
       "    }\n",
       "\n",
       "    .dataframe thead th {\n",
       "        text-align: right;\n",
       "    }\n",
       "</style>\n",
       "<table border=\"1\" class=\"dataframe\">\n",
       "  <thead>\n",
       "    <tr style=\"text-align: right;\">\n",
       "      <th></th>\n",
       "      <th>Survived</th>\n",
       "      <th>Pclass</th>\n",
       "      <th>Age</th>\n",
       "      <th>SibSp</th>\n",
       "      <th>Parch</th>\n",
       "      <th>Fare</th>\n",
       "      <th>male</th>\n",
       "      <th>Q</th>\n",
       "      <th>S</th>\n",
       "    </tr>\n",
       "    <tr>\n",
       "      <th>PassengerId</th>\n",
       "      <th></th>\n",
       "      <th></th>\n",
       "      <th></th>\n",
       "      <th></th>\n",
       "      <th></th>\n",
       "      <th></th>\n",
       "      <th></th>\n",
       "      <th></th>\n",
       "      <th></th>\n",
       "    </tr>\n",
       "  </thead>\n",
       "  <tbody>\n",
       "    <tr>\n",
       "      <th>1</th>\n",
       "      <td>0</td>\n",
       "      <td>3</td>\n",
       "      <td>22.0</td>\n",
       "      <td>1</td>\n",
       "      <td>0</td>\n",
       "      <td>7.2500</td>\n",
       "      <td>1</td>\n",
       "      <td>0</td>\n",
       "      <td>1</td>\n",
       "    </tr>\n",
       "    <tr>\n",
       "      <th>2</th>\n",
       "      <td>1</td>\n",
       "      <td>1</td>\n",
       "      <td>38.0</td>\n",
       "      <td>1</td>\n",
       "      <td>0</td>\n",
       "      <td>71.2833</td>\n",
       "      <td>0</td>\n",
       "      <td>0</td>\n",
       "      <td>0</td>\n",
       "    </tr>\n",
       "    <tr>\n",
       "      <th>3</th>\n",
       "      <td>1</td>\n",
       "      <td>3</td>\n",
       "      <td>26.0</td>\n",
       "      <td>0</td>\n",
       "      <td>0</td>\n",
       "      <td>7.9250</td>\n",
       "      <td>0</td>\n",
       "      <td>0</td>\n",
       "      <td>1</td>\n",
       "    </tr>\n",
       "  </tbody>\n",
       "</table>\n",
       "</div>"
      ],
      "text/plain": [
       "             Survived  Pclass   Age  SibSp  Parch     Fare  male  Q  S\n",
       "PassengerId                                                           \n",
       "1                   0       3  22.0      1      0   7.2500     1  0  1\n",
       "2                   1       1  38.0      1      0  71.2833     0  0  0\n",
       "3                   1       3  26.0      0      0   7.9250     0  0  1"
      ]
     },
     "execution_count": 58,
     "metadata": {},
     "output_type": "execute_result"
    }
   ],
   "source": [
    "train_data.head(3)"
   ]
  },
  {
   "cell_type": "code",
   "execution_count": null,
   "metadata": {},
   "outputs": [],
   "source": []
  },
  {
   "cell_type": "code",
   "execution_count": 59,
   "metadata": {},
   "outputs": [
    {
     "data": {
      "text/html": [
       "<div>\n",
       "<style scoped>\n",
       "    .dataframe tbody tr th:only-of-type {\n",
       "        vertical-align: middle;\n",
       "    }\n",
       "\n",
       "    .dataframe tbody tr th {\n",
       "        vertical-align: top;\n",
       "    }\n",
       "\n",
       "    .dataframe thead th {\n",
       "        text-align: right;\n",
       "    }\n",
       "</style>\n",
       "<table border=\"1\" class=\"dataframe\">\n",
       "  <thead>\n",
       "    <tr style=\"text-align: right;\">\n",
       "      <th></th>\n",
       "      <th>Pclass</th>\n",
       "      <th>Age</th>\n",
       "      <th>SibSp</th>\n",
       "      <th>Parch</th>\n",
       "      <th>Fare</th>\n",
       "      <th>male</th>\n",
       "      <th>Q</th>\n",
       "      <th>S</th>\n",
       "    </tr>\n",
       "    <tr>\n",
       "      <th>PassengerId</th>\n",
       "      <th></th>\n",
       "      <th></th>\n",
       "      <th></th>\n",
       "      <th></th>\n",
       "      <th></th>\n",
       "      <th></th>\n",
       "      <th></th>\n",
       "      <th></th>\n",
       "    </tr>\n",
       "  </thead>\n",
       "  <tbody>\n",
       "    <tr>\n",
       "      <th>892</th>\n",
       "      <td>3</td>\n",
       "      <td>34.5</td>\n",
       "      <td>0</td>\n",
       "      <td>0</td>\n",
       "      <td>7.8292</td>\n",
       "      <td>1</td>\n",
       "      <td>1</td>\n",
       "      <td>0</td>\n",
       "    </tr>\n",
       "    <tr>\n",
       "      <th>893</th>\n",
       "      <td>3</td>\n",
       "      <td>47.0</td>\n",
       "      <td>1</td>\n",
       "      <td>0</td>\n",
       "      <td>7.0000</td>\n",
       "      <td>0</td>\n",
       "      <td>0</td>\n",
       "      <td>1</td>\n",
       "    </tr>\n",
       "    <tr>\n",
       "      <th>894</th>\n",
       "      <td>2</td>\n",
       "      <td>62.0</td>\n",
       "      <td>0</td>\n",
       "      <td>0</td>\n",
       "      <td>9.6875</td>\n",
       "      <td>1</td>\n",
       "      <td>1</td>\n",
       "      <td>0</td>\n",
       "    </tr>\n",
       "  </tbody>\n",
       "</table>\n",
       "</div>"
      ],
      "text/plain": [
       "             Pclass   Age  SibSp  Parch    Fare  male  Q  S\n",
       "PassengerId                                                \n",
       "892               3  34.5      0      0  7.8292     1  1  0\n",
       "893               3  47.0      1      0  7.0000     0  0  1\n",
       "894               2  62.0      0      0  9.6875     1  1  0"
      ]
     },
     "execution_count": 59,
     "metadata": {},
     "output_type": "execute_result"
    }
   ],
   "source": [
    "test_data.head(3)"
   ]
  },
  {
   "cell_type": "code",
   "execution_count": 60,
   "metadata": {},
   "outputs": [],
   "source": [
    "#test_data.drop(9,axis=1,inplace=True)"
   ]
  },
  {
   "cell_type": "code",
   "execution_count": 61,
   "metadata": {},
   "outputs": [],
   "source": [
    "#test_data.head(3)"
   ]
  },
  {
   "cell_type": "code",
   "execution_count": null,
   "metadata": {},
   "outputs": [],
   "source": []
  },
  {
   "cell_type": "markdown",
   "metadata": {},
   "source": [
    "# Splitting the Training data set into X (independent) and y (dependent) Variables"
   ]
  },
  {
   "cell_type": "code",
   "execution_count": 62,
   "metadata": {},
   "outputs": [],
   "source": [
    "X = train_data.drop('Survived',axis=1)\n",
    "y = train_data['Survived']"
   ]
  },
  {
   "cell_type": "code",
   "execution_count": 63,
   "metadata": {},
   "outputs": [
    {
     "data": {
      "text/html": [
       "<div>\n",
       "<style scoped>\n",
       "    .dataframe tbody tr th:only-of-type {\n",
       "        vertical-align: middle;\n",
       "    }\n",
       "\n",
       "    .dataframe tbody tr th {\n",
       "        vertical-align: top;\n",
       "    }\n",
       "\n",
       "    .dataframe thead th {\n",
       "        text-align: right;\n",
       "    }\n",
       "</style>\n",
       "<table border=\"1\" class=\"dataframe\">\n",
       "  <thead>\n",
       "    <tr style=\"text-align: right;\">\n",
       "      <th></th>\n",
       "      <th>Pclass</th>\n",
       "      <th>Age</th>\n",
       "      <th>SibSp</th>\n",
       "      <th>Parch</th>\n",
       "      <th>Fare</th>\n",
       "      <th>male</th>\n",
       "      <th>Q</th>\n",
       "      <th>S</th>\n",
       "    </tr>\n",
       "    <tr>\n",
       "      <th>PassengerId</th>\n",
       "      <th></th>\n",
       "      <th></th>\n",
       "      <th></th>\n",
       "      <th></th>\n",
       "      <th></th>\n",
       "      <th></th>\n",
       "      <th></th>\n",
       "      <th></th>\n",
       "    </tr>\n",
       "  </thead>\n",
       "  <tbody>\n",
       "    <tr>\n",
       "      <th>1</th>\n",
       "      <td>3</td>\n",
       "      <td>22.0</td>\n",
       "      <td>1</td>\n",
       "      <td>0</td>\n",
       "      <td>7.2500</td>\n",
       "      <td>1</td>\n",
       "      <td>0</td>\n",
       "      <td>1</td>\n",
       "    </tr>\n",
       "    <tr>\n",
       "      <th>2</th>\n",
       "      <td>1</td>\n",
       "      <td>38.0</td>\n",
       "      <td>1</td>\n",
       "      <td>0</td>\n",
       "      <td>71.2833</td>\n",
       "      <td>0</td>\n",
       "      <td>0</td>\n",
       "      <td>0</td>\n",
       "    </tr>\n",
       "    <tr>\n",
       "      <th>3</th>\n",
       "      <td>3</td>\n",
       "      <td>26.0</td>\n",
       "      <td>0</td>\n",
       "      <td>0</td>\n",
       "      <td>7.9250</td>\n",
       "      <td>0</td>\n",
       "      <td>0</td>\n",
       "      <td>1</td>\n",
       "    </tr>\n",
       "  </tbody>\n",
       "</table>\n",
       "</div>"
      ],
      "text/plain": [
       "             Pclass   Age  SibSp  Parch     Fare  male  Q  S\n",
       "PassengerId                                                 \n",
       "1                 3  22.0      1      0   7.2500     1  0  1\n",
       "2                 1  38.0      1      0  71.2833     0  0  0\n",
       "3                 3  26.0      0      0   7.9250     0  0  1"
      ]
     },
     "execution_count": 63,
     "metadata": {},
     "output_type": "execute_result"
    }
   ],
   "source": [
    "X.head(3)"
   ]
  },
  {
   "cell_type": "code",
   "execution_count": 64,
   "metadata": {},
   "outputs": [
    {
     "data": {
      "text/plain": [
       "PassengerId\n",
       "1    0\n",
       "2    1\n",
       "3    1\n",
       "Name: Survived, dtype: int64"
      ]
     },
     "execution_count": 64,
     "metadata": {},
     "output_type": "execute_result"
    }
   ],
   "source": [
    "y.head(3)"
   ]
  },
  {
   "cell_type": "code",
   "execution_count": null,
   "metadata": {},
   "outputs": [],
   "source": []
  },
  {
   "cell_type": "markdown",
   "metadata": {},
   "source": [
    "# Scaling:\n",
    "The Independent Variables X dataset to enable Models that depend on distance measurement for classfication to do well"
   ]
  },
  {
   "cell_type": "code",
   "execution_count": 65,
   "metadata": {},
   "outputs": [],
   "source": [
    "from sklearn.preprocessing import StandardScaler"
   ]
  },
  {
   "cell_type": "code",
   "execution_count": 66,
   "metadata": {},
   "outputs": [],
   "source": [
    "scale = StandardScaler()"
   ]
  },
  {
   "cell_type": "code",
   "execution_count": 67,
   "metadata": {},
   "outputs": [],
   "source": [
    "scaled_x_train = scale.fit_transform(X)\n",
    "scaled_test_set = scale.transform(test_data)"
   ]
  },
  {
   "cell_type": "code",
   "execution_count": 68,
   "metadata": {},
   "outputs": [],
   "source": [
    "scaled_x_train = pd.DataFrame(data=scaled_x_train, index=X.index, columns=X.columns)\n",
    "scaled_test_set = pd.DataFrame(data=scaled_test_set, index=test_data.index, columns=test_data.columns)"
   ]
  },
  {
   "cell_type": "code",
   "execution_count": null,
   "metadata": {},
   "outputs": [],
   "source": []
  },
  {
   "cell_type": "code",
   "execution_count": 69,
   "metadata": {},
   "outputs": [
    {
     "data": {
      "text/html": [
       "<div>\n",
       "<style scoped>\n",
       "    .dataframe tbody tr th:only-of-type {\n",
       "        vertical-align: middle;\n",
       "    }\n",
       "\n",
       "    .dataframe tbody tr th {\n",
       "        vertical-align: top;\n",
       "    }\n",
       "\n",
       "    .dataframe thead th {\n",
       "        text-align: right;\n",
       "    }\n",
       "</style>\n",
       "<table border=\"1\" class=\"dataframe\">\n",
       "  <thead>\n",
       "    <tr style=\"text-align: right;\">\n",
       "      <th></th>\n",
       "      <th>Pclass</th>\n",
       "      <th>Age</th>\n",
       "      <th>SibSp</th>\n",
       "      <th>Parch</th>\n",
       "      <th>Fare</th>\n",
       "      <th>male</th>\n",
       "      <th>Q</th>\n",
       "      <th>S</th>\n",
       "    </tr>\n",
       "    <tr>\n",
       "      <th>PassengerId</th>\n",
       "      <th></th>\n",
       "      <th></th>\n",
       "      <th></th>\n",
       "      <th></th>\n",
       "      <th></th>\n",
       "      <th></th>\n",
       "      <th></th>\n",
       "      <th></th>\n",
       "    </tr>\n",
       "  </thead>\n",
       "  <tbody>\n",
       "    <tr>\n",
       "      <th>1</th>\n",
       "      <td>0.827377</td>\n",
       "      <td>-0.592500</td>\n",
       "      <td>0.432793</td>\n",
       "      <td>-0.473674</td>\n",
       "      <td>-0.502445</td>\n",
       "      <td>0.737695</td>\n",
       "      <td>-0.307562</td>\n",
       "      <td>0.615838</td>\n",
       "    </tr>\n",
       "    <tr>\n",
       "      <th>2</th>\n",
       "      <td>-1.566107</td>\n",
       "      <td>0.638777</td>\n",
       "      <td>0.432793</td>\n",
       "      <td>-0.473674</td>\n",
       "      <td>0.786845</td>\n",
       "      <td>-1.355574</td>\n",
       "      <td>-0.307562</td>\n",
       "      <td>-1.623803</td>\n",
       "    </tr>\n",
       "    <tr>\n",
       "      <th>3</th>\n",
       "      <td>0.827377</td>\n",
       "      <td>-0.284681</td>\n",
       "      <td>-0.474545</td>\n",
       "      <td>-0.473674</td>\n",
       "      <td>-0.488854</td>\n",
       "      <td>-1.355574</td>\n",
       "      <td>-0.307562</td>\n",
       "      <td>0.615838</td>\n",
       "    </tr>\n",
       "    <tr>\n",
       "      <th>4</th>\n",
       "      <td>-1.566107</td>\n",
       "      <td>0.407912</td>\n",
       "      <td>0.432793</td>\n",
       "      <td>-0.473674</td>\n",
       "      <td>0.420730</td>\n",
       "      <td>-1.355574</td>\n",
       "      <td>-0.307562</td>\n",
       "      <td>0.615838</td>\n",
       "    </tr>\n",
       "    <tr>\n",
       "      <th>5</th>\n",
       "      <td>0.827377</td>\n",
       "      <td>0.407912</td>\n",
       "      <td>-0.474545</td>\n",
       "      <td>-0.473674</td>\n",
       "      <td>-0.486337</td>\n",
       "      <td>0.737695</td>\n",
       "      <td>-0.307562</td>\n",
       "      <td>0.615838</td>\n",
       "    </tr>\n",
       "  </tbody>\n",
       "</table>\n",
       "</div>"
      ],
      "text/plain": [
       "               Pclass       Age     SibSp     Parch      Fare      male  \\\n",
       "PassengerId                                                               \n",
       "1            0.827377 -0.592500  0.432793 -0.473674 -0.502445  0.737695   \n",
       "2           -1.566107  0.638777  0.432793 -0.473674  0.786845 -1.355574   \n",
       "3            0.827377 -0.284681 -0.474545 -0.473674 -0.488854 -1.355574   \n",
       "4           -1.566107  0.407912  0.432793 -0.473674  0.420730 -1.355574   \n",
       "5            0.827377  0.407912 -0.474545 -0.473674 -0.486337  0.737695   \n",
       "\n",
       "                    Q         S  \n",
       "PassengerId                      \n",
       "1           -0.307562  0.615838  \n",
       "2           -0.307562 -1.623803  \n",
       "3           -0.307562  0.615838  \n",
       "4           -0.307562  0.615838  \n",
       "5           -0.307562  0.615838  "
      ]
     },
     "execution_count": 69,
     "metadata": {},
     "output_type": "execute_result"
    }
   ],
   "source": [
    "scaled_x_train.head()"
   ]
  },
  {
   "cell_type": "code",
   "execution_count": null,
   "metadata": {},
   "outputs": [],
   "source": []
  },
  {
   "cell_type": "code",
   "execution_count": 70,
   "metadata": {},
   "outputs": [
    {
     "data": {
      "text/html": [
       "<div>\n",
       "<style scoped>\n",
       "    .dataframe tbody tr th:only-of-type {\n",
       "        vertical-align: middle;\n",
       "    }\n",
       "\n",
       "    .dataframe tbody tr th {\n",
       "        vertical-align: top;\n",
       "    }\n",
       "\n",
       "    .dataframe thead th {\n",
       "        text-align: right;\n",
       "    }\n",
       "</style>\n",
       "<table border=\"1\" class=\"dataframe\">\n",
       "  <thead>\n",
       "    <tr style=\"text-align: right;\">\n",
       "      <th></th>\n",
       "      <th>Pclass</th>\n",
       "      <th>Age</th>\n",
       "      <th>SibSp</th>\n",
       "      <th>Parch</th>\n",
       "      <th>Fare</th>\n",
       "      <th>male</th>\n",
       "      <th>Q</th>\n",
       "      <th>S</th>\n",
       "    </tr>\n",
       "    <tr>\n",
       "      <th>PassengerId</th>\n",
       "      <th></th>\n",
       "      <th></th>\n",
       "      <th></th>\n",
       "      <th></th>\n",
       "      <th></th>\n",
       "      <th></th>\n",
       "      <th></th>\n",
       "      <th></th>\n",
       "    </tr>\n",
       "  </thead>\n",
       "  <tbody>\n",
       "    <tr>\n",
       "      <th>892</th>\n",
       "      <td>0.827377</td>\n",
       "      <td>0.369435</td>\n",
       "      <td>-0.474545</td>\n",
       "      <td>-0.473674</td>\n",
       "      <td>-0.490783</td>\n",
       "      <td>0.737695</td>\n",
       "      <td>3.251373</td>\n",
       "      <td>-1.623803</td>\n",
       "    </tr>\n",
       "    <tr>\n",
       "      <th>893</th>\n",
       "      <td>0.827377</td>\n",
       "      <td>1.331370</td>\n",
       "      <td>0.432793</td>\n",
       "      <td>-0.473674</td>\n",
       "      <td>-0.507479</td>\n",
       "      <td>-1.355574</td>\n",
       "      <td>-0.307562</td>\n",
       "      <td>0.615838</td>\n",
       "    </tr>\n",
       "    <tr>\n",
       "      <th>894</th>\n",
       "      <td>-0.369365</td>\n",
       "      <td>2.485692</td>\n",
       "      <td>-0.474545</td>\n",
       "      <td>-0.473674</td>\n",
       "      <td>-0.453367</td>\n",
       "      <td>0.737695</td>\n",
       "      <td>3.251373</td>\n",
       "      <td>-1.623803</td>\n",
       "    </tr>\n",
       "    <tr>\n",
       "      <th>895</th>\n",
       "      <td>0.827377</td>\n",
       "      <td>-0.207726</td>\n",
       "      <td>-0.474545</td>\n",
       "      <td>-0.473674</td>\n",
       "      <td>-0.474005</td>\n",
       "      <td>0.737695</td>\n",
       "      <td>-0.307562</td>\n",
       "      <td>0.615838</td>\n",
       "    </tr>\n",
       "    <tr>\n",
       "      <th>896</th>\n",
       "      <td>0.827377</td>\n",
       "      <td>-0.592500</td>\n",
       "      <td>0.432793</td>\n",
       "      <td>0.767630</td>\n",
       "      <td>-0.401017</td>\n",
       "      <td>-1.355574</td>\n",
       "      <td>-0.307562</td>\n",
       "      <td>0.615838</td>\n",
       "    </tr>\n",
       "  </tbody>\n",
       "</table>\n",
       "</div>"
      ],
      "text/plain": [
       "               Pclass       Age     SibSp     Parch      Fare      male  \\\n",
       "PassengerId                                                               \n",
       "892          0.827377  0.369435 -0.474545 -0.473674 -0.490783  0.737695   \n",
       "893          0.827377  1.331370  0.432793 -0.473674 -0.507479 -1.355574   \n",
       "894         -0.369365  2.485692 -0.474545 -0.473674 -0.453367  0.737695   \n",
       "895          0.827377 -0.207726 -0.474545 -0.473674 -0.474005  0.737695   \n",
       "896          0.827377 -0.592500  0.432793  0.767630 -0.401017 -1.355574   \n",
       "\n",
       "                    Q         S  \n",
       "PassengerId                      \n",
       "892          3.251373 -1.623803  \n",
       "893         -0.307562  0.615838  \n",
       "894          3.251373 -1.623803  \n",
       "895         -0.307562  0.615838  \n",
       "896         -0.307562  0.615838  "
      ]
     },
     "execution_count": 70,
     "metadata": {},
     "output_type": "execute_result"
    }
   ],
   "source": [
    "scaled_test_set.head()"
   ]
  },
  {
   "cell_type": "code",
   "execution_count": null,
   "metadata": {},
   "outputs": [],
   "source": []
  },
  {
   "cell_type": "markdown",
   "metadata": {},
   "source": [
    "##  ============ Temporary Evaluation with Train_Test_Split ==============="
   ]
  },
  {
   "cell_type": "code",
   "execution_count": 71,
   "metadata": {},
   "outputs": [],
   "source": [
    "from sklearn.model_selection import train_test_split"
   ]
  },
  {
   "cell_type": "code",
   "execution_count": 72,
   "metadata": {},
   "outputs": [],
   "source": [
    "X_train, X_valid, y_train, y_valid = train_test_split(scaled_x_train, y, test_size=0.25, random_state=43)"
   ]
  },
  {
   "cell_type": "code",
   "execution_count": null,
   "metadata": {},
   "outputs": [],
   "source": []
  },
  {
   "cell_type": "markdown",
   "metadata": {},
   "source": [
    "# ---------------------------------------------\n",
    "# Building ANN Models Here\n",
    "# ---------------------------------------------"
   ]
  },
  {
   "cell_type": "code",
   "execution_count": 73,
   "metadata": {},
   "outputs": [],
   "source": [
    "# Importing keras libraries and packages"
   ]
  },
  {
   "cell_type": "code",
   "execution_count": 74,
   "metadata": {},
   "outputs": [
    {
     "name": "stderr",
     "output_type": "stream",
     "text": [
      "C:\\ProgramData\\Anaconda3\\lib\\site-packages\\h5py\\__init__.py:36: FutureWarning: Conversion of the second argument of issubdtype from `float` to `np.floating` is deprecated. In future, it will be treated as `np.float64 == np.dtype(float).type`.\n",
      "  from ._conv import register_converters as _register_converters\n",
      "Using TensorFlow backend.\n"
     ]
    }
   ],
   "source": [
    "import keras\n",
    "from keras.models import Sequential\n",
    "from keras.layers import Dense"
   ]
  },
  {
   "cell_type": "code",
   "execution_count": 75,
   "metadata": {},
   "outputs": [],
   "source": [
    "#Initailizing the ANN\n",
    "classifier = Sequential()"
   ]
  },
  {
   "cell_type": "code",
   "execution_count": 76,
   "metadata": {},
   "outputs": [
    {
     "name": "stdout",
     "output_type": "stream",
     "text": [
      "WARNING:tensorflow:From C:\\ProgramData\\Anaconda3\\lib\\site-packages\\tensorflow\\python\\framework\\op_def_library.py:263: colocate_with (from tensorflow.python.framework.ops) is deprecated and will be removed in a future version.\n",
      "Instructions for updating:\n",
      "Colocations handled automatically by placer.\n"
     ]
    }
   ],
   "source": [
    "# Adding the input and the first hidden layer\n",
    "classifier.add(Dense(units=5, activation='relu', kernel_initializer='uniform', input_shape=(8,)))"
   ]
  },
  {
   "cell_type": "code",
   "execution_count": 77,
   "metadata": {},
   "outputs": [],
   "source": [
    "# Adding the second hidden layer\n",
    "classifier.add(Dense(units=5, activation='relu', kernel_initializer='uniform'))"
   ]
  },
  {
   "cell_type": "code",
   "execution_count": 78,
   "metadata": {},
   "outputs": [],
   "source": [
    "# Adding the Third hidden layer\n",
    "classifier.add(Dense(units=5, activation='relu', kernel_initializer='uniform'))"
   ]
  },
  {
   "cell_type": "code",
   "execution_count": 79,
   "metadata": {},
   "outputs": [],
   "source": [
    "# Adding the output layer\n",
    "classifier.add(Dense(units=1, kernel_initializer='uniform', activation='sigmoid'))"
   ]
  },
  {
   "cell_type": "code",
   "execution_count": 80,
   "metadata": {},
   "outputs": [],
   "source": [
    "# Compiling the ANN\n",
    "classifier.compile(optimizer='adam', loss='binary_crossentropy', metrics=['accuracy'])"
   ]
  },
  {
   "cell_type": "code",
   "execution_count": 81,
   "metadata": {},
   "outputs": [
    {
     "name": "stdout",
     "output_type": "stream",
     "text": [
      "WARNING:tensorflow:From C:\\ProgramData\\Anaconda3\\lib\\site-packages\\tensorflow\\python\\ops\\math_ops.py:3066: to_int32 (from tensorflow.python.ops.math_ops) is deprecated and will be removed in a future version.\n",
      "Instructions for updating:\n",
      "Use tf.cast instead.\n",
      "Epoch 1/100\n",
      "668/668 [==============================] - 3s 4ms/step - loss: 0.6907 - acc: 0.6153\n",
      "Epoch 2/100\n",
      "668/668 [==============================] - 0s 213us/step - loss: 0.6826 - acc: 0.6198\n",
      "Epoch 3/100\n",
      "668/668 [==============================] - 0s 288us/step - loss: 0.6489 - acc: 0.6198\n",
      "Epoch 4/100\n",
      "668/668 [==============================] - 0s 247us/step - loss: 0.5644 - acc: 0.6826\n",
      "Epoch 5/100\n",
      "668/668 [==============================] - 0s 164us/step - loss: 0.4985 - acc: 0.8219\n",
      "Epoch 6/100\n",
      "668/668 [==============================] - 0s 187us/step - loss: 0.4632 - acc: 0.8174\n",
      "Epoch 7/100\n",
      "668/668 [==============================] - 0s 175us/step - loss: 0.4386 - acc: 0.8144\n",
      "Epoch 8/100\n",
      "668/668 [==============================] - 0s 186us/step - loss: 0.4247 - acc: 0.8129\n",
      "Epoch 9/100\n",
      "668/668 [==============================] - 0s 216us/step - loss: 0.4174 - acc: 0.8174\n",
      "Epoch 10/100\n",
      "668/668 [==============================] - 0s 195us/step - loss: 0.4130 - acc: 0.8204\n",
      "Epoch 11/100\n",
      "668/668 [==============================] - 0s 179us/step - loss: 0.4093 - acc: 0.8129\n",
      "Epoch 12/100\n",
      "668/668 [==============================] - 0s 163us/step - loss: 0.4070 - acc: 0.8174\n",
      "Epoch 13/100\n",
      "668/668 [==============================] - 0s 196us/step - loss: 0.4046 - acc: 0.8174\n",
      "Epoch 14/100\n",
      "668/668 [==============================] - 0s 206us/step - loss: 0.4031 - acc: 0.8174\n",
      "Epoch 15/100\n",
      "668/668 [==============================] - 0s 160us/step - loss: 0.4000 - acc: 0.8159\n",
      "Epoch 16/100\n",
      "668/668 [==============================] - 0s 200us/step - loss: 0.3990 - acc: 0.8263\n",
      "Epoch 17/100\n",
      "668/668 [==============================] - 0s 174us/step - loss: 0.3971 - acc: 0.8249\n",
      "Epoch 18/100\n",
      "668/668 [==============================] - 0s 178us/step - loss: 0.3970 - acc: 0.8144\n",
      "Epoch 19/100\n",
      "668/668 [==============================] - 0s 190us/step - loss: 0.3950 - acc: 0.8249\n",
      "Epoch 20/100\n",
      "668/668 [==============================] - 0s 196us/step - loss: 0.3931 - acc: 0.8278\n",
      "Epoch 21/100\n",
      "668/668 [==============================] - 0s 169us/step - loss: 0.3928 - acc: 0.8308\n",
      "Epoch 22/100\n",
      "668/668 [==============================] - 0s 178us/step - loss: 0.3912 - acc: 0.8249\n",
      "Epoch 23/100\n",
      "668/668 [==============================] - 0s 198us/step - loss: 0.3910 - acc: 0.8353\n",
      "Epoch 24/100\n",
      "668/668 [==============================] - 0s 153us/step - loss: 0.3898 - acc: 0.8278\n",
      "Epoch 25/100\n",
      "668/668 [==============================] - 0s 174us/step - loss: 0.3896 - acc: 0.8353\n",
      "Epoch 26/100\n",
      "668/668 [==============================] - 0s 169us/step - loss: 0.3898 - acc: 0.8323\n",
      "Epoch 27/100\n",
      "668/668 [==============================] - 0s 171us/step - loss: 0.3878 - acc: 0.8338\n",
      "Epoch 28/100\n",
      "668/668 [==============================] - 0s 178us/step - loss: 0.3874 - acc: 0.8413\n",
      "Epoch 29/100\n",
      "668/668 [==============================] - 0s 177us/step - loss: 0.3861 - acc: 0.8353\n",
      "Epoch 30/100\n",
      "668/668 [==============================] - 0s 192us/step - loss: 0.3854 - acc: 0.8353\n",
      "Epoch 31/100\n",
      "668/668 [==============================] - 0s 191us/step - loss: 0.3844 - acc: 0.8398\n",
      "Epoch 32/100\n",
      "668/668 [==============================] - 0s 169us/step - loss: 0.3843 - acc: 0.8338 0s - loss: 0.4313 - acc: 0.80\n",
      "Epoch 33/100\n",
      "668/668 [==============================] - 0s 174us/step - loss: 0.3842 - acc: 0.8398\n",
      "Epoch 34/100\n",
      "668/668 [==============================] - 0s 173us/step - loss: 0.3831 - acc: 0.8383\n",
      "Epoch 35/100\n",
      "668/668 [==============================] - 0s 146us/step - loss: 0.3822 - acc: 0.8383\n",
      "Epoch 36/100\n",
      "668/668 [==============================] - 0s 198us/step - loss: 0.3830 - acc: 0.8443\n",
      "Epoch 37/100\n",
      "668/668 [==============================] - 0s 171us/step - loss: 0.3813 - acc: 0.8383\n",
      "Epoch 38/100\n",
      "668/668 [==============================] - 0s 152us/step - loss: 0.3805 - acc: 0.8428\n",
      "Epoch 39/100\n",
      "668/668 [==============================] - 0s 182us/step - loss: 0.3799 - acc: 0.8398\n",
      "Epoch 40/100\n",
      "668/668 [==============================] - 0s 169us/step - loss: 0.3794 - acc: 0.8368\n",
      "Epoch 41/100\n",
      "668/668 [==============================] - 0s 195us/step - loss: 0.3802 - acc: 0.8383\n",
      "Epoch 42/100\n",
      "668/668 [==============================] - 0s 164us/step - loss: 0.3796 - acc: 0.8383\n",
      "Epoch 43/100\n",
      "668/668 [==============================] - 0s 171us/step - loss: 0.3786 - acc: 0.8368\n",
      "Epoch 44/100\n",
      "668/668 [==============================] - 0s 184us/step - loss: 0.3786 - acc: 0.8353\n",
      "Epoch 45/100\n",
      "668/668 [==============================] - 0s 178us/step - loss: 0.3783 - acc: 0.8353\n",
      "Epoch 46/100\n",
      "668/668 [==============================] - 0s 173us/step - loss: 0.3779 - acc: 0.8353\n",
      "Epoch 47/100\n",
      "668/668 [==============================] - 0s 167us/step - loss: 0.3784 - acc: 0.8398\n",
      "Epoch 48/100\n",
      "668/668 [==============================] - 0s 141us/step - loss: 0.3767 - acc: 0.8353\n",
      "Epoch 49/100\n",
      "668/668 [==============================] - 0s 196us/step - loss: 0.3774 - acc: 0.8368\n",
      "Epoch 50/100\n",
      "668/668 [==============================] - 0s 182us/step - loss: 0.3772 - acc: 0.8368\n",
      "Epoch 51/100\n",
      "668/668 [==============================] - 0s 166us/step - loss: 0.3772 - acc: 0.8383\n",
      "Epoch 52/100\n",
      "668/668 [==============================] - 0s 181us/step - loss: 0.3765 - acc: 0.8398\n",
      "Epoch 53/100\n",
      "668/668 [==============================] - 0s 228us/step - loss: 0.3767 - acc: 0.8383\n",
      "Epoch 54/100\n",
      "668/668 [==============================] - 0s 199us/step - loss: 0.3771 - acc: 0.8353\n",
      "Epoch 55/100\n",
      "668/668 [==============================] - 0s 269us/step - loss: 0.3758 - acc: 0.8398\n",
      "Epoch 56/100\n",
      "668/668 [==============================] - 0s 196us/step - loss: 0.3768 - acc: 0.8383\n",
      "Epoch 57/100\n",
      "668/668 [==============================] - 0s 243us/step - loss: 0.3766 - acc: 0.8398\n",
      "Epoch 58/100\n",
      "668/668 [==============================] - 0s 191us/step - loss: 0.3758 - acc: 0.8383\n",
      "Epoch 59/100\n",
      "668/668 [==============================] - 0s 236us/step - loss: 0.3758 - acc: 0.8383 0s - loss: 0.3664 - acc: 0.84\n",
      "Epoch 60/100\n",
      "668/668 [==============================] - 0s 149us/step - loss: 0.3756 - acc: 0.8383\n",
      "Epoch 61/100\n",
      "668/668 [==============================] - 0s 212us/step - loss: 0.3758 - acc: 0.8368\n",
      "Epoch 62/100\n",
      "668/668 [==============================] - 0s 216us/step - loss: 0.3756 - acc: 0.8413\n",
      "Epoch 63/100\n",
      "668/668 [==============================] - 0s 186us/step - loss: 0.3756 - acc: 0.8383\n",
      "Epoch 64/100\n",
      "668/668 [==============================] - 0s 180us/step - loss: 0.3752 - acc: 0.8368\n",
      "Epoch 65/100\n",
      "668/668 [==============================] - 0s 161us/step - loss: 0.3740 - acc: 0.8368\n",
      "Epoch 66/100\n",
      "668/668 [==============================] - 0s 221us/step - loss: 0.3759 - acc: 0.8353\n",
      "Epoch 67/100\n",
      "668/668 [==============================] - 0s 181us/step - loss: 0.3761 - acc: 0.8368\n",
      "Epoch 68/100\n",
      "668/668 [==============================] - 0s 193us/step - loss: 0.3749 - acc: 0.8383\n",
      "Epoch 69/100\n",
      "668/668 [==============================] - 0s 169us/step - loss: 0.3746 - acc: 0.8443\n",
      "Epoch 70/100\n",
      "668/668 [==============================] - 0s 232us/step - loss: 0.3745 - acc: 0.8428\n",
      "Epoch 71/100\n",
      "668/668 [==============================] - 0s 186us/step - loss: 0.3736 - acc: 0.8413\n",
      "Epoch 72/100\n",
      "668/668 [==============================] - 0s 250us/step - loss: 0.3740 - acc: 0.8368\n",
      "Epoch 73/100\n",
      "668/668 [==============================] - 0s 186us/step - loss: 0.3733 - acc: 0.8368\n",
      "Epoch 74/100\n",
      "668/668 [==============================] - 0s 228us/step - loss: 0.3751 - acc: 0.8398\n",
      "Epoch 75/100\n",
      "668/668 [==============================] - 0s 207us/step - loss: 0.3739 - acc: 0.8428\n",
      "Epoch 76/100\n",
      "668/668 [==============================] - 0s 202us/step - loss: 0.3730 - acc: 0.8368\n",
      "Epoch 77/100\n",
      "668/668 [==============================] - 0s 198us/step - loss: 0.3730 - acc: 0.8413\n",
      "Epoch 78/100\n",
      "668/668 [==============================] - 0s 183us/step - loss: 0.3729 - acc: 0.8413\n",
      "Epoch 79/100\n",
      "668/668 [==============================] - 0s 186us/step - loss: 0.3730 - acc: 0.8398\n",
      "Epoch 80/100\n"
     ]
    },
    {
     "name": "stdout",
     "output_type": "stream",
     "text": [
      "668/668 [==============================] - 0s 219us/step - loss: 0.3735 - acc: 0.8428\n",
      "Epoch 81/100\n",
      "668/668 [==============================] - 0s 150us/step - loss: 0.3726 - acc: 0.8368\n",
      "Epoch 82/100\n",
      "668/668 [==============================] - 0s 167us/step - loss: 0.3727 - acc: 0.8338\n",
      "Epoch 83/100\n",
      "668/668 [==============================] - 0s 145us/step - loss: 0.3735 - acc: 0.8413\n",
      "Epoch 84/100\n",
      "668/668 [==============================] - 0s 160us/step - loss: 0.3734 - acc: 0.8398\n",
      "Epoch 85/100\n",
      "668/668 [==============================] - 0s 142us/step - loss: 0.3723 - acc: 0.8398\n",
      "Epoch 86/100\n",
      "668/668 [==============================] - 0s 161us/step - loss: 0.3719 - acc: 0.8398\n",
      "Epoch 87/100\n",
      "668/668 [==============================] - 0s 150us/step - loss: 0.3719 - acc: 0.8398\n",
      "Epoch 88/100\n",
      "668/668 [==============================] - 0s 154us/step - loss: 0.3723 - acc: 0.8398\n",
      "Epoch 89/100\n",
      "668/668 [==============================] - 0s 159us/step - loss: 0.3716 - acc: 0.8398\n",
      "Epoch 90/100\n",
      "668/668 [==============================] - 0s 148us/step - loss: 0.3724 - acc: 0.8443\n",
      "Epoch 91/100\n",
      "668/668 [==============================] - 0s 141us/step - loss: 0.3719 - acc: 0.8413\n",
      "Epoch 92/100\n",
      "668/668 [==============================] - 0s 150us/step - loss: 0.3726 - acc: 0.8383\n",
      "Epoch 93/100\n",
      "668/668 [==============================] - 0s 173us/step - loss: 0.3708 - acc: 0.8413\n",
      "Epoch 94/100\n",
      "668/668 [==============================] - 0s 181us/step - loss: 0.3708 - acc: 0.8458\n",
      "Epoch 95/100\n",
      "668/668 [==============================] - 0s 147us/step - loss: 0.3717 - acc: 0.8443\n",
      "Epoch 96/100\n",
      "668/668 [==============================] - 0s 139us/step - loss: 0.3716 - acc: 0.8383\n",
      "Epoch 97/100\n",
      "668/668 [==============================] - 0s 134us/step - loss: 0.3705 - acc: 0.8413\n",
      "Epoch 98/100\n",
      "668/668 [==============================] - 0s 171us/step - loss: 0.3717 - acc: 0.8428\n",
      "Epoch 99/100\n",
      "668/668 [==============================] - 0s 169us/step - loss: 0.3702 - acc: 0.8368\n",
      "Epoch 100/100\n",
      "668/668 [==============================] - 0s 162us/step - loss: 0.3710 - acc: 0.8413\n"
     ]
    },
    {
     "data": {
      "text/plain": [
       "<keras.callbacks.History at 0x2d13dbe1438>"
      ]
     },
     "execution_count": 81,
     "metadata": {},
     "output_type": "execute_result"
    }
   ],
   "source": [
    "#Fitting the ANN to the Training set\n",
    "classifier.fit(X_train, y_train, batch_size=10, epochs=100)"
   ]
  },
  {
   "cell_type": "code",
   "execution_count": 82,
   "metadata": {},
   "outputs": [],
   "source": [
    "from IPython.display import SVG\n",
    "from keras.utils.vis_utils import model_to_dot\n",
    "from keras.utils import plot_model\n",
    "import pydot"
   ]
  },
  {
   "cell_type": "code",
   "execution_count": 84,
   "metadata": {},
   "outputs": [
    {
     "data": {
      "image/svg+xml": [
       "<svg height=\"337pt\" viewBox=\"0.00 0.00 112.00 337.00\" width=\"112pt\" xmlns=\"http://www.w3.org/2000/svg\" xmlns:xlink=\"http://www.w3.org/1999/xlink\">\n",
       "<g class=\"graph\" id=\"graph0\" transform=\"scale(1 1) rotate(0) translate(4 333)\">\n",
       "<title>G</title>\n",
       "<polygon fill=\"white\" points=\"-4,4 -4,-333 108,-333 108,4 -4,4\" stroke=\"none\"/>\n",
       "<!-- 3097706789352 -->\n",
       "<g class=\"node\" id=\"node1\"><title>3097706789352</title>\n",
       "<polygon fill=\"none\" points=\"0,-219.5 0,-255.5 104,-255.5 104,-219.5 0,-219.5\" stroke=\"black\"/>\n",
       "<text font-family=\"Times New Roman,serif\" font-size=\"14.00\" text-anchor=\"middle\" x=\"52\" y=\"-233.8\">dense_1: Dense</text>\n",
       "</g>\n",
       "<!-- 3097706790640 -->\n",
       "<g class=\"node\" id=\"node2\"><title>3097706790640</title>\n",
       "<polygon fill=\"none\" points=\"0,-146.5 0,-182.5 104,-182.5 104,-146.5 0,-146.5\" stroke=\"black\"/>\n",
       "<text font-family=\"Times New Roman,serif\" font-size=\"14.00\" text-anchor=\"middle\" x=\"52\" y=\"-160.8\">dense_2: Dense</text>\n",
       "</g>\n",
       "<!-- 3097706789352&#45;&gt;3097706790640 -->\n",
       "<g class=\"edge\" id=\"edge2\"><title>3097706789352-&gt;3097706790640</title>\n",
       "<path d=\"M52,-219.313C52,-211.289 52,-201.547 52,-192.569\" fill=\"none\" stroke=\"black\"/>\n",
       "<polygon fill=\"black\" points=\"55.5001,-192.529 52,-182.529 48.5001,-192.529 55.5001,-192.529\" stroke=\"black\"/>\n",
       "</g>\n",
       "<!-- 3097707049760 -->\n",
       "<g class=\"node\" id=\"node3\"><title>3097707049760</title>\n",
       "<polygon fill=\"none\" points=\"0,-73.5 0,-109.5 104,-109.5 104,-73.5 0,-73.5\" stroke=\"black\"/>\n",
       "<text font-family=\"Times New Roman,serif\" font-size=\"14.00\" text-anchor=\"middle\" x=\"52\" y=\"-87.8\">dense_3: Dense</text>\n",
       "</g>\n",
       "<!-- 3097706790640&#45;&gt;3097707049760 -->\n",
       "<g class=\"edge\" id=\"edge3\"><title>3097706790640-&gt;3097707049760</title>\n",
       "<path d=\"M52,-146.313C52,-138.289 52,-128.547 52,-119.569\" fill=\"none\" stroke=\"black\"/>\n",
       "<polygon fill=\"black\" points=\"55.5001,-119.529 52,-109.529 48.5001,-119.529 55.5001,-119.529\" stroke=\"black\"/>\n",
       "</g>\n",
       "<!-- 3097707186664 -->\n",
       "<g class=\"node\" id=\"node4\"><title>3097707186664</title>\n",
       "<polygon fill=\"none\" points=\"0,-0.5 0,-36.5 104,-36.5 104,-0.5 0,-0.5\" stroke=\"black\"/>\n",
       "<text font-family=\"Times New Roman,serif\" font-size=\"14.00\" text-anchor=\"middle\" x=\"52\" y=\"-14.8\">dense_4: Dense</text>\n",
       "</g>\n",
       "<!-- 3097707049760&#45;&gt;3097707186664 -->\n",
       "<g class=\"edge\" id=\"edge4\"><title>3097707049760-&gt;3097707186664</title>\n",
       "<path d=\"M52,-73.3129C52,-65.2895 52,-55.5475 52,-46.5691\" fill=\"none\" stroke=\"black\"/>\n",
       "<polygon fill=\"black\" points=\"55.5001,-46.5288 52,-36.5288 48.5001,-46.5289 55.5001,-46.5288\" stroke=\"black\"/>\n",
       "</g>\n",
       "<!-- 3097706789520 -->\n",
       "<g class=\"node\" id=\"node5\"><title>3097706789520</title>\n",
       "<polygon fill=\"none\" points=\"0,-292.5 0,-328.5 104,-328.5 104,-292.5 0,-292.5\" stroke=\"black\"/>\n",
       "<text font-family=\"Times New Roman,serif\" font-size=\"14.00\" text-anchor=\"middle\" x=\"52\" y=\"-306.8\">3097706789520</text>\n",
       "</g>\n",
       "<!-- 3097706789520&#45;&gt;3097706789352 -->\n",
       "<g class=\"edge\" id=\"edge1\"><title>3097706789520-&gt;3097706789352</title>\n",
       "<path d=\"M52,-292.313C52,-284.289 52,-274.547 52,-265.569\" fill=\"none\" stroke=\"black\"/>\n",
       "<polygon fill=\"black\" points=\"55.5001,-265.529 52,-255.529 48.5001,-265.529 55.5001,-265.529\" stroke=\"black\"/>\n",
       "</g>\n",
       "</g>\n",
       "</svg>"
      ],
      "text/plain": [
       "<IPython.core.display.SVG object>"
      ]
     },
     "execution_count": 84,
     "metadata": {},
     "output_type": "execute_result"
    }
   ],
   "source": [
    "SVG(data=model_to_dot(classifier).create(prog='dot',format='svg'))"
   ]
  },
  {
   "cell_type": "code",
   "execution_count": 85,
   "metadata": {},
   "outputs": [],
   "source": [
    "plot_model(model=classifier, to_file='ann_classifier_model.png')"
   ]
  },
  {
   "cell_type": "code",
   "execution_count": 120,
   "metadata": {},
   "outputs": [],
   "source": [
    "y_pred = classifier.predict(X_valid)"
   ]
  },
  {
   "cell_type": "code",
   "execution_count": 87,
   "metadata": {},
   "outputs": [],
   "source": [
    "y_pred = (y_pred > 0.5)"
   ]
  },
  {
   "cell_type": "code",
   "execution_count": null,
   "metadata": {},
   "outputs": [],
   "source": []
  },
  {
   "cell_type": "code",
   "execution_count": 88,
   "metadata": {},
   "outputs": [],
   "source": [
    "from sklearn.metrics import classification_report,confusion_matrix,accuracy_score"
   ]
  },
  {
   "cell_type": "code",
   "execution_count": 89,
   "metadata": {},
   "outputs": [
    {
     "name": "stdout",
     "output_type": "stream",
     "text": [
      "[[120  15]\n",
      " [ 35  53]]\n",
      "\n",
      "\n",
      "             precision    recall  f1-score   support\n",
      "\n",
      "          0       0.77      0.89      0.83       135\n",
      "          1       0.78      0.60      0.68        88\n",
      "\n",
      "avg / total       0.78      0.78      0.77       223\n",
      "\n",
      "\n",
      "\n",
      "0.7757847533632287\n"
     ]
    }
   ],
   "source": [
    "print(confusion_matrix(y_valid,y_pred))\n",
    "print('\\n')\n",
    "print(classification_report(y_valid,y_pred))\n",
    "print('\\n')\n",
    "print(accuracy_score(y_valid,y_pred))"
   ]
  },
  {
   "cell_type": "code",
   "execution_count": null,
   "metadata": {},
   "outputs": [],
   "source": []
  },
  {
   "cell_type": "markdown",
   "metadata": {},
   "source": [
    "# ---------------------------------------------------------------------------------------\n",
    "# ACTUAL MODEL TRAINING WITH GIVEN TEST DATA\n",
    "# ---------------------------------------------------------------------------------------"
   ]
  },
  {
   "cell_type": "markdown",
   "metadata": {},
   "source": [
    "### Initializations / Instantiations"
   ]
  },
  {
   "cell_type": "code",
   "execution_count": 90,
   "metadata": {},
   "outputs": [],
   "source": [
    "#Initailizing the ANN\n",
    "ann_classifier = Sequential()"
   ]
  },
  {
   "cell_type": "code",
   "execution_count": 91,
   "metadata": {},
   "outputs": [],
   "source": [
    "# Adding the input and the first hidden layer\n",
    "ann_classifier.add(Dense(units=5, activation='relu', kernel_initializer='uniform', input_shape=(8,)))"
   ]
  },
  {
   "cell_type": "code",
   "execution_count": 92,
   "metadata": {},
   "outputs": [],
   "source": [
    "# Adding the second hidden layer\n",
    "ann_classifier.add(Dense(units=5, activation='relu', kernel_initializer='uniform'))"
   ]
  },
  {
   "cell_type": "code",
   "execution_count": 93,
   "metadata": {},
   "outputs": [],
   "source": [
    "# Adding the third hidden layer\n",
    "ann_classifier.add(Dense(units=5, activation='relu', kernel_initializer='uniform'))"
   ]
  },
  {
   "cell_type": "code",
   "execution_count": 94,
   "metadata": {},
   "outputs": [],
   "source": [
    "# Adding the output layer\n",
    "ann_classifier.add(Dense(units=1, kernel_initializer='uniform', activation='sigmoid'))"
   ]
  },
  {
   "cell_type": "code",
   "execution_count": 95,
   "metadata": {},
   "outputs": [],
   "source": [
    "# Compiling the ANN\n",
    "ann_classifier.compile(optimizer='adam', loss='binary_crossentropy', metrics=['accuracy'])"
   ]
  },
  {
   "cell_type": "code",
   "execution_count": 96,
   "metadata": {},
   "outputs": [
    {
     "name": "stdout",
     "output_type": "stream",
     "text": [
      "Epoch 1/200\n",
      "668/668 [==============================] - 1s 875us/step - loss: 0.6909 - acc: 0.6168\n",
      "Epoch 2/200\n",
      "668/668 [==============================] - 0s 177us/step - loss: 0.6867 - acc: 0.6198\n",
      "Epoch 3/200\n",
      "668/668 [==============================] - 0s 211us/step - loss: 0.6830 - acc: 0.6198\n",
      "Epoch 4/200\n",
      "668/668 [==============================] - 0s 205us/step - loss: 0.6800 - acc: 0.6198\n",
      "Epoch 5/200\n",
      "668/668 [==============================] - 0s 199us/step - loss: 0.6774 - acc: 0.6198\n",
      "Epoch 6/200\n",
      "668/668 [==============================] - 0s 159us/step - loss: 0.6753 - acc: 0.6198\n",
      "Epoch 7/200\n",
      "668/668 [==============================] - 0s 190us/step - loss: 0.6735 - acc: 0.6198\n",
      "Epoch 8/200\n",
      "668/668 [==============================] - 0s 207us/step - loss: 0.6720 - acc: 0.6198\n",
      "Epoch 9/200\n",
      "668/668 [==============================] - 0s 178us/step - loss: 0.6706 - acc: 0.6198\n",
      "Epoch 10/200\n",
      "668/668 [==============================] - 0s 175us/step - loss: 0.6696 - acc: 0.6198\n",
      "Epoch 11/200\n",
      "668/668 [==============================] - 0s 153us/step - loss: 0.6686 - acc: 0.6198\n",
      "Epoch 12/200\n",
      "668/668 [==============================] - 0s 173us/step - loss: 0.6679 - acc: 0.6198\n",
      "Epoch 13/200\n",
      "668/668 [==============================] - 0s 204us/step - loss: 0.6672 - acc: 0.6198\n",
      "Epoch 14/200\n",
      "668/668 [==============================] - 0s 192us/step - loss: 0.6667 - acc: 0.6198\n",
      "Epoch 15/200\n",
      "668/668 [==============================] - 0s 174us/step - loss: 0.6663 - acc: 0.6198\n",
      "Epoch 16/200\n",
      "668/668 [==============================] - 0s 173us/step - loss: 0.6659 - acc: 0.6198\n",
      "Epoch 17/200\n",
      "668/668 [==============================] - 0s 187us/step - loss: 0.6656 - acc: 0.6198\n",
      "Epoch 18/200\n",
      "668/668 [==============================] - 0s 184us/step - loss: 0.6653 - acc: 0.6198\n",
      "Epoch 19/200\n",
      "668/668 [==============================] - 0s 176us/step - loss: 0.6651 - acc: 0.6198\n",
      "Epoch 20/200\n",
      "668/668 [==============================] - 0s 191us/step - loss: 0.6650 - acc: 0.6198\n",
      "Epoch 21/200\n",
      "668/668 [==============================] - 0s 196us/step - loss: 0.6650 - acc: 0.6198\n",
      "Epoch 22/200\n",
      "668/668 [==============================] - 0s 174us/step - loss: 0.6648 - acc: 0.6198 0s - loss: 0.6599 - acc: 0.631\n",
      "Epoch 23/200\n",
      "668/668 [==============================] - 0s 181us/step - loss: 0.6647 - acc: 0.6198\n",
      "Epoch 24/200\n",
      "668/668 [==============================] - 0s 189us/step - loss: 0.6646 - acc: 0.6198\n",
      "Epoch 25/200\n",
      "668/668 [==============================] - 0s 189us/step - loss: 0.6645 - acc: 0.6198\n",
      "Epoch 26/200\n",
      "668/668 [==============================] - 0s 190us/step - loss: 0.6645 - acc: 0.6198\n",
      "Epoch 27/200\n",
      "668/668 [==============================] - 0s 189us/step - loss: 0.6644 - acc: 0.6198\n",
      "Epoch 28/200\n",
      "668/668 [==============================] - 0s 196us/step - loss: 0.6644 - acc: 0.6198\n",
      "Epoch 29/200\n",
      "668/668 [==============================] - 0s 245us/step - loss: 0.6644 - acc: 0.6198\n",
      "Epoch 30/200\n",
      "668/668 [==============================] - 0s 226us/step - loss: 0.6644 - acc: 0.6198\n",
      "Epoch 31/200\n",
      "668/668 [==============================] - 0s 283us/step - loss: 0.6643 - acc: 0.6198\n",
      "Epoch 32/200\n",
      "668/668 [==============================] - 0s 321us/step - loss: 0.6643 - acc: 0.6198\n",
      "Epoch 33/200\n",
      "668/668 [==============================] - 0s 207us/step - loss: 0.6643 - acc: 0.6198\n",
      "Epoch 34/200\n",
      "668/668 [==============================] - 0s 219us/step - loss: 0.6643 - acc: 0.6198\n",
      "Epoch 35/200\n",
      "668/668 [==============================] - ETA: 0s - loss: 0.6637 - acc: 0.621 - 0s 275us/step - loss: 0.6643 - acc: 0.6198\n",
      "Epoch 36/200\n",
      "668/668 [==============================] - 0s 215us/step - loss: 0.6642 - acc: 0.6198\n",
      "Epoch 37/200\n",
      "668/668 [==============================] - 0s 213us/step - loss: 0.6642 - acc: 0.6198\n",
      "Epoch 38/200\n",
      "668/668 [==============================] - 0s 213us/step - loss: 0.6643 - acc: 0.6198\n",
      "Epoch 39/200\n",
      "668/668 [==============================] - 0s 220us/step - loss: 0.6642 - acc: 0.6198\n",
      "Epoch 40/200\n",
      "668/668 [==============================] - 0s 292us/step - loss: 0.6642 - acc: 0.6198\n",
      "Epoch 41/200\n",
      "668/668 [==============================] - 0s 226us/step - loss: 0.6643 - acc: 0.6198\n",
      "Epoch 42/200\n",
      "668/668 [==============================] - 0s 219us/step - loss: 0.6643 - acc: 0.6198\n",
      "Epoch 43/200\n",
      "668/668 [==============================] - 0s 202us/step - loss: 0.6642 - acc: 0.6198\n",
      "Epoch 44/200\n",
      "668/668 [==============================] - 0s 208us/step - loss: 0.6642 - acc: 0.6198\n",
      "Epoch 45/200\n",
      "668/668 [==============================] - 0s 174us/step - loss: 0.6642 - acc: 0.6198\n",
      "Epoch 46/200\n",
      "668/668 [==============================] - 0s 210us/step - loss: 0.6643 - acc: 0.6198\n",
      "Epoch 47/200\n",
      "668/668 [==============================] - 0s 202us/step - loss: 0.6642 - acc: 0.6198\n",
      "Epoch 48/200\n",
      "668/668 [==============================] - 0s 179us/step - loss: 0.6643 - acc: 0.6198\n",
      "Epoch 49/200\n",
      "668/668 [==============================] - 0s 199us/step - loss: 0.6643 - acc: 0.6198\n",
      "Epoch 50/200\n",
      "668/668 [==============================] - 0s 231us/step - loss: 0.6642 - acc: 0.6198\n",
      "Epoch 51/200\n",
      "668/668 [==============================] - 0s 187us/step - loss: 0.6642 - acc: 0.6198\n",
      "Epoch 52/200\n",
      "668/668 [==============================] - 0s 197us/step - loss: 0.6642 - acc: 0.6198\n",
      "Epoch 53/200\n",
      "668/668 [==============================] - 0s 190us/step - loss: 0.6642 - acc: 0.6198\n",
      "Epoch 54/200\n",
      "668/668 [==============================] - 0s 229us/step - loss: 0.6643 - acc: 0.6198\n",
      "Epoch 55/200\n",
      "668/668 [==============================] - 0s 207us/step - loss: 0.6642 - acc: 0.6198\n",
      "Epoch 56/200\n",
      "668/668 [==============================] - 0s 252us/step - loss: 0.6643 - acc: 0.6198\n",
      "Epoch 57/200\n",
      "668/668 [==============================] - 0s 198us/step - loss: 0.6642 - acc: 0.6198\n",
      "Epoch 58/200\n",
      "668/668 [==============================] - 0s 199us/step - loss: 0.6642 - acc: 0.6198\n",
      "Epoch 59/200\n",
      "668/668 [==============================] - 0s 244us/step - loss: 0.6642 - acc: 0.6198\n",
      "Epoch 60/200\n",
      "668/668 [==============================] - 0s 199us/step - loss: 0.6642 - acc: 0.6198\n",
      "Epoch 61/200\n",
      "668/668 [==============================] - 0s 195us/step - loss: 0.6642 - acc: 0.6198\n",
      "Epoch 62/200\n",
      "668/668 [==============================] - 0s 210us/step - loss: 0.6642 - acc: 0.6198\n",
      "Epoch 63/200\n",
      "668/668 [==============================] - 0s 195us/step - loss: 0.6642 - acc: 0.6198\n",
      "Epoch 64/200\n",
      "668/668 [==============================] - 0s 215us/step - loss: 0.6642 - acc: 0.6198\n",
      "Epoch 65/200\n",
      "668/668 [==============================] - 0s 265us/step - loss: 0.6642 - acc: 0.6198\n",
      "Epoch 66/200\n",
      "668/668 [==============================] - 0s 199us/step - loss: 0.6642 - acc: 0.6198\n",
      "Epoch 67/200\n",
      "668/668 [==============================] - 0s 195us/step - loss: 0.6642 - acc: 0.6198\n",
      "Epoch 68/200\n",
      "668/668 [==============================] - 0s 229us/step - loss: 0.6643 - acc: 0.6198\n",
      "Epoch 69/200\n",
      "668/668 [==============================] - 0s 191us/step - loss: 0.6642 - acc: 0.6198\n",
      "Epoch 70/200\n",
      "668/668 [==============================] - 0s 205us/step - loss: 0.6642 - acc: 0.6198\n",
      "Epoch 71/200\n",
      "668/668 [==============================] - 0s 208us/step - loss: 0.6642 - acc: 0.6198\n",
      "Epoch 72/200\n",
      "668/668 [==============================] - 0s 201us/step - loss: 0.6642 - acc: 0.6198\n",
      "Epoch 73/200\n",
      "668/668 [==============================] - 0s 194us/step - loss: 0.6643 - acc: 0.6198\n",
      "Epoch 74/200\n",
      "668/668 [==============================] - 0s 209us/step - loss: 0.6642 - acc: 0.6198\n",
      "Epoch 75/200\n",
      "668/668 [==============================] - 0s 299us/step - loss: 0.6642 - acc: 0.6198\n",
      "Epoch 76/200\n",
      "668/668 [==============================] - 0s 230us/step - loss: 0.6642 - acc: 0.6198\n",
      "Epoch 77/200\n",
      "668/668 [==============================] - 0s 284us/step - loss: 0.6642 - acc: 0.6198\n",
      "Epoch 78/200\n",
      "668/668 [==============================] - 0s 210us/step - loss: 0.6642 - acc: 0.6198\n",
      "Epoch 79/200\n",
      "668/668 [==============================] - 0s 243us/step - loss: 0.6643 - acc: 0.6198\n",
      "Epoch 80/200\n",
      "668/668 [==============================] - 0s 193us/step - loss: 0.6642 - acc: 0.6198\n",
      "Epoch 81/200\n",
      "668/668 [==============================] - 0s 216us/step - loss: 0.6642 - acc: 0.6198\n",
      "Epoch 82/200\n",
      "668/668 [==============================] - 0s 218us/step - loss: 0.6643 - acc: 0.6198\n",
      "Epoch 83/200\n"
     ]
    },
    {
     "name": "stdout",
     "output_type": "stream",
     "text": [
      "668/668 [==============================] - 0s 201us/step - loss: 0.6642 - acc: 0.6198\n",
      "Epoch 84/200\n",
      "668/668 [==============================] - 0s 262us/step - loss: 0.6642 - acc: 0.6198\n",
      "Epoch 85/200\n",
      "668/668 [==============================] - 0s 245us/step - loss: 0.6643 - acc: 0.6198\n",
      "Epoch 86/200\n",
      "668/668 [==============================] - 0s 265us/step - loss: 0.6642 - acc: 0.6198\n",
      "Epoch 87/200\n",
      "668/668 [==============================] - 0s 270us/step - loss: 0.6642 - acc: 0.6198\n",
      "Epoch 88/200\n",
      "668/668 [==============================] - 0s 226us/step - loss: 0.6642 - acc: 0.6198\n",
      "Epoch 89/200\n",
      "668/668 [==============================] - 0s 209us/step - loss: 0.6642 - acc: 0.6198\n",
      "Epoch 90/200\n",
      "668/668 [==============================] - 0s 210us/step - loss: 0.6643 - acc: 0.6198\n",
      "Epoch 91/200\n",
      "668/668 [==============================] - 0s 210us/step - loss: 0.6642 - acc: 0.6198\n",
      "Epoch 92/200\n",
      "668/668 [==============================] - 0s 201us/step - loss: 0.6642 - acc: 0.6198\n",
      "Epoch 93/200\n",
      "668/668 [==============================] - 0s 205us/step - loss: 0.6642 - acc: 0.6198\n",
      "Epoch 94/200\n",
      "668/668 [==============================] - 0s 207us/step - loss: 0.6642 - acc: 0.6198\n",
      "Epoch 95/200\n",
      "668/668 [==============================] - 0s 318us/step - loss: 0.6642 - acc: 0.6198\n",
      "Epoch 96/200\n",
      "668/668 [==============================] - 0s 245us/step - loss: 0.6643 - acc: 0.6198\n",
      "Epoch 97/200\n",
      "668/668 [==============================] - 0s 246us/step - loss: 0.6642 - acc: 0.6198\n",
      "Epoch 98/200\n",
      "668/668 [==============================] - 0s 213us/step - loss: 0.6642 - acc: 0.6198\n",
      "Epoch 99/200\n",
      "668/668 [==============================] - 0s 210us/step - loss: 0.6642 - acc: 0.6198\n",
      "Epoch 100/200\n",
      "668/668 [==============================] - 0s 223us/step - loss: 0.6642 - acc: 0.6198\n",
      "Epoch 101/200\n",
      "668/668 [==============================] - 0s 242us/step - loss: 0.6643 - acc: 0.6198\n",
      "Epoch 102/200\n",
      "668/668 [==============================] - 0s 228us/step - loss: 0.6642 - acc: 0.6198\n",
      "Epoch 103/200\n",
      "668/668 [==============================] - 0s 252us/step - loss: 0.6643 - acc: 0.6198\n",
      "Epoch 104/200\n",
      "668/668 [==============================] - 0s 218us/step - loss: 0.6643 - acc: 0.6198\n",
      "Epoch 105/200\n",
      "668/668 [==============================] - 0s 230us/step - loss: 0.6642 - acc: 0.6198\n",
      "Epoch 106/200\n",
      "668/668 [==============================] - 0s 219us/step - loss: 0.6642 - acc: 0.6198\n",
      "Epoch 107/200\n",
      "668/668 [==============================] - 0s 226us/step - loss: 0.6642 - acc: 0.6198\n",
      "Epoch 108/200\n",
      "668/668 [==============================] - 0s 245us/step - loss: 0.6642 - acc: 0.6198\n",
      "Epoch 109/200\n",
      "668/668 [==============================] - 0s 215us/step - loss: 0.6642 - acc: 0.6198\n",
      "Epoch 110/200\n",
      "668/668 [==============================] - 0s 287us/step - loss: 0.6642 - acc: 0.6198\n",
      "Epoch 111/200\n",
      "668/668 [==============================] - 0s 219us/step - loss: 0.6643 - acc: 0.6198\n",
      "Epoch 112/200\n",
      "668/668 [==============================] - 0s 228us/step - loss: 0.6642 - acc: 0.6198\n",
      "Epoch 113/200\n",
      "668/668 [==============================] - 0s 231us/step - loss: 0.6643 - acc: 0.6198\n",
      "Epoch 114/200\n",
      "668/668 [==============================] - 0s 229us/step - loss: 0.6642 - acc: 0.6198\n",
      "Epoch 115/200\n",
      "668/668 [==============================] - 0s 241us/step - loss: 0.6642 - acc: 0.6198\n",
      "Epoch 116/200\n",
      "668/668 [==============================] - 0s 218us/step - loss: 0.6643 - acc: 0.6198\n",
      "Epoch 117/200\n",
      "668/668 [==============================] - 0s 227us/step - loss: 0.6643 - acc: 0.6198\n",
      "Epoch 118/200\n",
      "668/668 [==============================] - 0s 239us/step - loss: 0.6643 - acc: 0.6198\n",
      "Epoch 119/200\n",
      "668/668 [==============================] - 0s 288us/step - loss: 0.6642 - acc: 0.6198\n",
      "Epoch 120/200\n",
      "668/668 [==============================] - 0s 220us/step - loss: 0.6643 - acc: 0.6198\n",
      "Epoch 121/200\n",
      "668/668 [==============================] - 0s 258us/step - loss: 0.6642 - acc: 0.6198\n",
      "Epoch 122/200\n",
      "668/668 [==============================] - 0s 207us/step - loss: 0.6643 - acc: 0.6198\n",
      "Epoch 123/200\n",
      "668/668 [==============================] - 0s 207us/step - loss: 0.6642 - acc: 0.6198\n",
      "Epoch 124/200\n",
      "668/668 [==============================] - 0s 230us/step - loss: 0.6642 - acc: 0.6198\n",
      "Epoch 125/200\n",
      "668/668 [==============================] - 0s 202us/step - loss: 0.6642 - acc: 0.6198\n",
      "Epoch 126/200\n",
      "668/668 [==============================] - 0s 256us/step - loss: 0.6643 - acc: 0.6198\n",
      "Epoch 127/200\n",
      "668/668 [==============================] - 0s 273us/step - loss: 0.6643 - acc: 0.6198\n",
      "Epoch 128/200\n",
      "668/668 [==============================] - 0s 204us/step - loss: 0.6642 - acc: 0.6198\n",
      "Epoch 129/200\n",
      "668/668 [==============================] - 0s 211us/step - loss: 0.6642 - acc: 0.6198\n",
      "Epoch 130/200\n",
      "668/668 [==============================] - 0s 234us/step - loss: 0.6642 - acc: 0.6198\n",
      "Epoch 131/200\n",
      "668/668 [==============================] - 0s 189us/step - loss: 0.6642 - acc: 0.6198\n",
      "Epoch 132/200\n",
      "668/668 [==============================] - 0s 192us/step - loss: 0.6642 - acc: 0.6198\n",
      "Epoch 133/200\n",
      "668/668 [==============================] - 0s 196us/step - loss: 0.6643 - acc: 0.6198\n",
      "Epoch 134/200\n",
      "668/668 [==============================] - 0s 209us/step - loss: 0.6642 - acc: 0.6198\n",
      "Epoch 135/200\n",
      "668/668 [==============================] - 0s 201us/step - loss: 0.6643 - acc: 0.6198\n",
      "Epoch 136/200\n",
      "668/668 [==============================] - 0s 218us/step - loss: 0.6642 - acc: 0.6198\n",
      "Epoch 137/200\n",
      "668/668 [==============================] - 0s 194us/step - loss: 0.6642 - acc: 0.6198\n",
      "Epoch 138/200\n",
      "668/668 [==============================] - 0s 195us/step - loss: 0.6642 - acc: 0.6198\n",
      "Epoch 139/200\n",
      "668/668 [==============================] - 0s 221us/step - loss: 0.6642 - acc: 0.6198 0s - loss: 0.6700 - acc: 0.607\n",
      "Epoch 140/200\n",
      "668/668 [==============================] - 0s 207us/step - loss: 0.6643 - acc: 0.6198\n",
      "Epoch 141/200\n",
      "668/668 [==============================] - 0s 199us/step - loss: 0.6642 - acc: 0.6198\n",
      "Epoch 142/200\n",
      "668/668 [==============================] - 0s 197us/step - loss: 0.6642 - acc: 0.6198\n",
      "Epoch 143/200\n",
      "668/668 [==============================] - 0s 188us/step - loss: 0.6643 - acc: 0.6198\n",
      "Epoch 144/200\n",
      "668/668 [==============================] - 0s 190us/step - loss: 0.6643 - acc: 0.6198\n",
      "Epoch 145/200\n",
      "668/668 [==============================] - 0s 200us/step - loss: 0.6643 - acc: 0.6198\n",
      "Epoch 146/200\n",
      "668/668 [==============================] - 0s 179us/step - loss: 0.6642 - acc: 0.6198\n",
      "Epoch 147/200\n",
      "668/668 [==============================] - 0s 187us/step - loss: 0.6642 - acc: 0.6198\n",
      "Epoch 148/200\n",
      "668/668 [==============================] - 0s 196us/step - loss: 0.6642 - acc: 0.6198\n",
      "Epoch 149/200\n",
      "668/668 [==============================] - 0s 213us/step - loss: 0.6643 - acc: 0.6198\n",
      "Epoch 150/200\n",
      "668/668 [==============================] - 0s 192us/step - loss: 0.6642 - acc: 0.6198\n",
      "Epoch 151/200\n",
      "668/668 [==============================] - 0s 189us/step - loss: 0.6642 - acc: 0.6198\n",
      "Epoch 152/200\n",
      "668/668 [==============================] - 0s 190us/step - loss: 0.6642 - acc: 0.6198\n",
      "Epoch 153/200\n",
      "668/668 [==============================] - 0s 190us/step - loss: 0.6643 - acc: 0.6198\n",
      "Epoch 154/200\n",
      "668/668 [==============================] - 0s 217us/step - loss: 0.6642 - acc: 0.6198\n",
      "Epoch 155/200\n",
      "668/668 [==============================] - 0s 204us/step - loss: 0.6642 - acc: 0.6198\n",
      "Epoch 156/200\n",
      "668/668 [==============================] - 0s 190us/step - loss: 0.6642 - acc: 0.6198\n",
      "Epoch 157/200\n",
      "668/668 [==============================] - 0s 192us/step - loss: 0.6642 - acc: 0.6198\n",
      "Epoch 158/200\n",
      "668/668 [==============================] - 0s 187us/step - loss: 0.6643 - acc: 0.6198\n",
      "Epoch 159/200\n",
      "668/668 [==============================] - 0s 194us/step - loss: 0.6642 - acc: 0.6198\n",
      "Epoch 160/200\n",
      "668/668 [==============================] - 0s 171us/step - loss: 0.6643 - acc: 0.6198\n",
      "Epoch 161/200\n",
      "668/668 [==============================] - 0s 178us/step - loss: 0.6642 - acc: 0.6198\n",
      "Epoch 162/200\n",
      "668/668 [==============================] - 0s 187us/step - loss: 0.6643 - acc: 0.6198\n",
      "Epoch 163/200\n",
      "668/668 [==============================] - 0s 195us/step - loss: 0.6642 - acc: 0.6198\n",
      "Epoch 164/200\n"
     ]
    },
    {
     "name": "stdout",
     "output_type": "stream",
     "text": [
      "668/668 [==============================] - 0s 207us/step - loss: 0.6642 - acc: 0.6198\n",
      "Epoch 165/200\n",
      "668/668 [==============================] - 0s 260us/step - loss: 0.6642 - acc: 0.6198\n",
      "Epoch 166/200\n",
      "668/668 [==============================] - 0s 196us/step - loss: 0.6642 - acc: 0.6198\n",
      "Epoch 167/200\n",
      "668/668 [==============================] - 0s 198us/step - loss: 0.6643 - acc: 0.6198\n",
      "Epoch 168/200\n",
      "668/668 [==============================] - 0s 284us/step - loss: 0.6642 - acc: 0.6198\n",
      "Epoch 169/200\n",
      "668/668 [==============================] - 0s 192us/step - loss: 0.6642 - acc: 0.6198\n",
      "Epoch 170/200\n",
      "668/668 [==============================] - 0s 198us/step - loss: 0.6642 - acc: 0.6198\n",
      "Epoch 171/200\n",
      "668/668 [==============================] - 0s 189us/step - loss: 0.6642 - acc: 0.6198\n",
      "Epoch 172/200\n",
      "668/668 [==============================] - 0s 198us/step - loss: 0.6642 - acc: 0.6198\n",
      "Epoch 173/200\n",
      "668/668 [==============================] - 0s 236us/step - loss: 0.6642 - acc: 0.6198\n",
      "Epoch 174/200\n",
      "668/668 [==============================] - 0s 204us/step - loss: 0.6642 - acc: 0.6198\n",
      "Epoch 175/200\n",
      "668/668 [==============================] - 0s 201us/step - loss: 0.6642 - acc: 0.6198\n",
      "Epoch 176/200\n",
      "668/668 [==============================] - 0s 209us/step - loss: 0.6642 - acc: 0.6198\n",
      "Epoch 177/200\n",
      "668/668 [==============================] - 0s 321us/step - loss: 0.6642 - acc: 0.6198\n",
      "Epoch 178/200\n",
      "668/668 [==============================] - 0s 219us/step - loss: 0.6642 - acc: 0.6198\n",
      "Epoch 179/200\n",
      "668/668 [==============================] - 0s 241us/step - loss: 0.6643 - acc: 0.6198\n",
      "Epoch 180/200\n",
      "668/668 [==============================] - 0s 202us/step - loss: 0.6642 - acc: 0.6198\n",
      "Epoch 181/200\n",
      "668/668 [==============================] - 0s 251us/step - loss: 0.6643 - acc: 0.6198\n",
      "Epoch 182/200\n",
      "668/668 [==============================] - 0s 220us/step - loss: 0.6642 - acc: 0.6198\n",
      "Epoch 183/200\n",
      "668/668 [==============================] - 0s 252us/step - loss: 0.6643 - acc: 0.6198\n",
      "Epoch 184/200\n",
      "668/668 [==============================] - 0s 223us/step - loss: 0.6642 - acc: 0.6198 0s - loss: 0.6759 - acc: 0.59\n",
      "Epoch 185/200\n",
      "668/668 [==============================] - 0s 220us/step - loss: 0.6642 - acc: 0.6198\n",
      "Epoch 186/200\n",
      "668/668 [==============================] - 0s 219us/step - loss: 0.6642 - acc: 0.6198\n",
      "Epoch 187/200\n",
      "668/668 [==============================] - 0s 211us/step - loss: 0.6642 - acc: 0.6198\n",
      "Epoch 188/200\n",
      "668/668 [==============================] - 0s 227us/step - loss: 0.6643 - acc: 0.6198\n",
      "Epoch 189/200\n",
      "668/668 [==============================] - 0s 213us/step - loss: 0.6643 - acc: 0.6198\n",
      "Epoch 190/200\n",
      "668/668 [==============================] - 0s 198us/step - loss: 0.6643 - acc: 0.6198\n",
      "Epoch 191/200\n",
      "668/668 [==============================] - 0s 212us/step - loss: 0.6642 - acc: 0.6198\n",
      "Epoch 192/200\n",
      "668/668 [==============================] - 0s 195us/step - loss: 0.6642 - acc: 0.6198\n",
      "Epoch 193/200\n",
      "668/668 [==============================] - 0s 205us/step - loss: 0.6643 - acc: 0.6198\n",
      "Epoch 194/200\n",
      "668/668 [==============================] - 0s 255us/step - loss: 0.6642 - acc: 0.6198\n",
      "Epoch 195/200\n",
      "668/668 [==============================] - 0s 184us/step - loss: 0.6642 - acc: 0.6198\n",
      "Epoch 196/200\n",
      "668/668 [==============================] - 0s 201us/step - loss: 0.6642 - acc: 0.6198\n",
      "Epoch 197/200\n",
      "668/668 [==============================] - 0s 207us/step - loss: 0.6643 - acc: 0.6198\n",
      "Epoch 198/200\n",
      "668/668 [==============================] - 0s 209us/step - loss: 0.6642 - acc: 0.6198\n",
      "Epoch 199/200\n",
      "668/668 [==============================] - 0s 203us/step - loss: 0.6643 - acc: 0.6198\n",
      "Epoch 200/200\n",
      "668/668 [==============================] - 0s 207us/step - loss: 0.6642 - acc: 0.6198\n"
     ]
    },
    {
     "data": {
      "text/plain": [
       "<keras.callbacks.History at 0x2d13f544ef0>"
      ]
     },
     "execution_count": 96,
     "metadata": {},
     "output_type": "execute_result"
    }
   ],
   "source": [
    "#Fitting the ANN to the Training set\n",
    "ann_classifier.fit(X_train, y_train, batch_size=10, epochs=200)"
   ]
  },
  {
   "cell_type": "markdown",
   "metadata": {},
   "source": [
    "# Results Obtained "
   ]
  },
  {
   "cell_type": "code",
   "execution_count": 114,
   "metadata": {},
   "outputs": [],
   "source": [
    "y_pred = ann_classifier.predict(X_valid)"
   ]
  },
  {
   "cell_type": "code",
   "execution_count": 115,
   "metadata": {},
   "outputs": [],
   "source": [
    "y_pred = (y_pred > 0.5)"
   ]
  },
  {
   "cell_type": "code",
   "execution_count": 116,
   "metadata": {},
   "outputs": [],
   "source": [
    "result = pd.DataFrame(data=y_pred, index=X_valid.index, columns=['Survived'])"
   ]
  },
  {
   "cell_type": "code",
   "execution_count": 117,
   "metadata": {},
   "outputs": [],
   "source": [
    "def convertToNum(res):\n",
    "    if (res == True):\n",
    "        return 1\n",
    "    else:\n",
    "        return 0\n",
    "result.Survived = result.Survived.apply(convertToNum)"
   ]
  },
  {
   "cell_type": "code",
   "execution_count": 118,
   "metadata": {},
   "outputs": [
    {
     "data": {
      "text/html": [
       "<div>\n",
       "<style scoped>\n",
       "    .dataframe tbody tr th:only-of-type {\n",
       "        vertical-align: middle;\n",
       "    }\n",
       "\n",
       "    .dataframe tbody tr th {\n",
       "        vertical-align: top;\n",
       "    }\n",
       "\n",
       "    .dataframe thead th {\n",
       "        text-align: right;\n",
       "    }\n",
       "</style>\n",
       "<table border=\"1\" class=\"dataframe\">\n",
       "  <thead>\n",
       "    <tr style=\"text-align: right;\">\n",
       "      <th></th>\n",
       "      <th>Survived</th>\n",
       "    </tr>\n",
       "    <tr>\n",
       "      <th>PassengerId</th>\n",
       "      <th></th>\n",
       "    </tr>\n",
       "  </thead>\n",
       "  <tbody>\n",
       "    <tr>\n",
       "      <th>771</th>\n",
       "      <td>0</td>\n",
       "    </tr>\n",
       "    <tr>\n",
       "      <th>854</th>\n",
       "      <td>0</td>\n",
       "    </tr>\n",
       "    <tr>\n",
       "      <th>145</th>\n",
       "      <td>0</td>\n",
       "    </tr>\n",
       "    <tr>\n",
       "      <th>142</th>\n",
       "      <td>0</td>\n",
       "    </tr>\n",
       "    <tr>\n",
       "      <th>262</th>\n",
       "      <td>0</td>\n",
       "    </tr>\n",
       "  </tbody>\n",
       "</table>\n",
       "</div>"
      ],
      "text/plain": [
       "             Survived\n",
       "PassengerId          \n",
       "771                 0\n",
       "854                 0\n",
       "145                 0\n",
       "142                 0\n",
       "262                 0"
      ]
     },
     "execution_count": 118,
     "metadata": {},
     "output_type": "execute_result"
    }
   ],
   "source": [
    "result.head()"
   ]
  },
  {
   "cell_type": "markdown",
   "metadata": {},
   "source": [
    "## Writing result to file in CSV Format"
   ]
  },
  {
   "cell_type": "code",
   "execution_count": 119,
   "metadata": {},
   "outputs": [
    {
     "ename": "NameError",
     "evalue": "name 'my_prediction' is not defined",
     "output_type": "error",
     "traceback": [
      "\u001b[1;31m---------------------------------------------------------------------------\u001b[0m",
      "\u001b[1;31mNameError\u001b[0m                                 Traceback (most recent call last)",
      "\u001b[1;32m<ipython-input-119-a3f28f8d481c>\u001b[0m in \u001b[0;36m<module>\u001b[1;34m()\u001b[0m\n\u001b[1;32m----> 1\u001b[1;33m \u001b[0mmy_prediction\u001b[0m\u001b[1;33m.\u001b[0m\u001b[0mto_csv\u001b[0m\u001b[1;33m(\u001b[0m\u001b[1;34m'Adedoyin_Simeon_Titanic_Prediction_for_Kaggle_competition2.csv'\u001b[0m\u001b[1;33m)\u001b[0m\u001b[1;33m\u001b[0m\u001b[0m\n\u001b[0m",
      "\u001b[1;31mNameError\u001b[0m: name 'my_prediction' is not defined"
     ]
    }
   ],
   "source": [
    "my_prediction.to_csv('Adedoyin_Simeon_Titanic_Prediction_for_Kaggle_competition2.csv')"
   ]
  },
  {
   "cell_type": "code",
   "execution_count": null,
   "metadata": {},
   "outputs": [],
   "source": []
  },
  {
   "cell_type": "markdown",
   "metadata": {},
   "source": [
    "## Verifying Result File"
   ]
  },
  {
   "cell_type": "code",
   "execution_count": 254,
   "metadata": {},
   "outputs": [],
   "source": [
    "pred = pd.read_csv('Adedoyin_Simeon_Titanic_Prediction_for_Kaggle_competition2.csv', index_col='PassengerId')"
   ]
  },
  {
   "cell_type": "code",
   "execution_count": 255,
   "metadata": {},
   "outputs": [
    {
     "data": {
      "text/html": [
       "<div>\n",
       "<style scoped>\n",
       "    .dataframe tbody tr th:only-of-type {\n",
       "        vertical-align: middle;\n",
       "    }\n",
       "\n",
       "    .dataframe tbody tr th {\n",
       "        vertical-align: top;\n",
       "    }\n",
       "\n",
       "    .dataframe thead th {\n",
       "        text-align: right;\n",
       "    }\n",
       "</style>\n",
       "<table border=\"1\" class=\"dataframe\">\n",
       "  <thead>\n",
       "    <tr style=\"text-align: right;\">\n",
       "      <th></th>\n",
       "      <th>Survived</th>\n",
       "    </tr>\n",
       "    <tr>\n",
       "      <th>PassengerId</th>\n",
       "      <th></th>\n",
       "    </tr>\n",
       "  </thead>\n",
       "  <tbody>\n",
       "    <tr>\n",
       "      <th>892</th>\n",
       "      <td>0</td>\n",
       "    </tr>\n",
       "    <tr>\n",
       "      <th>893</th>\n",
       "      <td>0</td>\n",
       "    </tr>\n",
       "    <tr>\n",
       "      <th>894</th>\n",
       "      <td>0</td>\n",
       "    </tr>\n",
       "    <tr>\n",
       "      <th>895</th>\n",
       "      <td>0</td>\n",
       "    </tr>\n",
       "    <tr>\n",
       "      <th>896</th>\n",
       "      <td>0</td>\n",
       "    </tr>\n",
       "  </tbody>\n",
       "</table>\n",
       "</div>"
      ],
      "text/plain": [
       "             Survived\n",
       "PassengerId          \n",
       "892                 0\n",
       "893                 0\n",
       "894                 0\n",
       "895                 0\n",
       "896                 0"
      ]
     },
     "execution_count": 255,
     "metadata": {},
     "output_type": "execute_result"
    }
   ],
   "source": [
    "pred.head()"
   ]
  },
  {
   "cell_type": "markdown",
   "metadata": {},
   "source": [
    "# ==================== THE END ==========================="
   ]
  },
  {
   "cell_type": "code",
   "execution_count": null,
   "metadata": {},
   "outputs": [],
   "source": []
  }
 ],
 "metadata": {
  "kernelspec": {
   "display_name": "Python 3",
   "language": "python",
   "name": "python3"
  },
  "language_info": {
   "codemirror_mode": {
    "name": "ipython",
    "version": 3
   },
   "file_extension": ".py",
   "mimetype": "text/x-python",
   "name": "python",
   "nbconvert_exporter": "python",
   "pygments_lexer": "ipython3",
   "version": "3.6.5"
  }
 },
 "nbformat": 4,
 "nbformat_minor": 2
}
